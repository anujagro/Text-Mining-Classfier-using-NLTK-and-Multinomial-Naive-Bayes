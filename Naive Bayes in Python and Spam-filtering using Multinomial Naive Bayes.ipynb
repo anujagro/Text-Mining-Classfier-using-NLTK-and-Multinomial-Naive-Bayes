{
 "cells": [
  {
   "cell_type": "code",
   "execution_count": 1,
   "metadata": {},
   "outputs": [],
   "source": [
    "# Naive Bayes in Python and Spam-filtering using Multinomial Naive Bayes\n",
    "# Version -3 - Just adding this comment to test Github Branch and Commit\n",
    "# Have Used: NLTK concepts: Tokeniser, Stop- words, Multi-nomial naive Bayes and LabelEncoder, TfidfVectoriser\n"
   ]
  },
  {
   "cell_type": "code",
   "execution_count": 2,
   "metadata": {},
   "outputs": [],
   "source": [
    "import numpy as np\n",
    "import pandas as pd\n",
    "\n",
    "from pandas import Series, DataFrame\n",
    "\n",
    "import matplotlib as mpl\n",
    "import seaborn as sns\n",
    "\n",
    "%matplotlib inline"
   ]
  },
  {
   "cell_type": "code",
   "execution_count": 3,
   "metadata": {},
   "outputs": [],
   "source": [
    "from sklearn import datasets\n",
    "from sklearn import metrics\n",
    "from sklearn.naive_bayes import GaussianNB, MultinomialNB"
   ]
  },
  {
   "cell_type": "code",
   "execution_count": 4,
   "metadata": {},
   "outputs": [],
   "source": [
    "# Loading the iris dataset:\n",
    "\n",
    "iris = datasets.load_iris()"
   ]
  },
  {
   "cell_type": "code",
   "execution_count": 5,
   "metadata": {},
   "outputs": [],
   "source": [
    "# Setting X and Y variables:\n",
    "\n",
    "X = DataFrame(iris.data, columns = iris.feature_names)\n",
    "\n",
    "Y = DataFrame(iris.target, columns = [\"Target\"])"
   ]
  },
  {
   "cell_type": "code",
   "execution_count": 6,
   "metadata": {},
   "outputs": [
    {
     "data": {
      "text/plain": [
       "(   sepal length (cm)  sepal width (cm)  petal length (cm)  petal width (cm)\n",
       " 0                5.1               3.5                1.4               0.2\n",
       " 1                4.9               3.0                1.4               0.2\n",
       " 2                4.7               3.2                1.3               0.2\n",
       " 3                4.6               3.1                1.5               0.2\n",
       " 4                5.0               3.6                1.4               0.2,\n",
       "    Target\n",
       " 0       0\n",
       " 1       0\n",
       " 2       0\n",
       " 3       0\n",
       " 4       0)"
      ]
     },
     "execution_count": 6,
     "metadata": {},
     "output_type": "execute_result"
    }
   ],
   "source": [
    "X.head() , Y.head()"
   ]
  },
  {
   "cell_type": "code",
   "execution_count": 7,
   "metadata": {},
   "outputs": [],
   "source": [
    "# Fitting the Naive Bayes Model:"
   ]
  },
  {
   "cell_type": "code",
   "execution_count": 8,
   "metadata": {},
   "outputs": [],
   "source": [
    "model = GaussianNB()"
   ]
  },
  {
   "cell_type": "code",
   "execution_count": 9,
   "metadata": {},
   "outputs": [
    {
     "name": "stderr",
     "output_type": "stream",
     "text": [
      "C:\\Anaconda3\\lib\\site-packages\\sklearn\\cross_validation.py:41: DeprecationWarning: This module was deprecated in version 0.18 in favor of the model_selection module into which all the refactored classes and functions are moved. Also note that the interface of the new CV iterators are different from that of this module. This module will be removed in 0.20.\n",
      "  \"This module will be removed in 0.20.\", DeprecationWarning)\n"
     ]
    }
   ],
   "source": [
    "# Creating a Train-Test Split\n",
    "\n",
    "from sklearn.cross_validation import train_test_split\n",
    "\n",
    "X_train, X_test, Y_train, Y_test = train_test_split(X,Y)"
   ]
  },
  {
   "cell_type": "code",
   "execution_count": 10,
   "metadata": {},
   "outputs": [
    {
     "name": "stderr",
     "output_type": "stream",
     "text": [
      "C:\\Anaconda3\\lib\\site-packages\\sklearn\\utils\\validation.py:578: DataConversionWarning: A column-vector y was passed when a 1d array was expected. Please change the shape of y to (n_samples, ), for example using ravel().\n",
      "  y = column_or_1d(y, warn=True)\n"
     ]
    },
    {
     "data": {
      "text/plain": [
       "GaussianNB(priors=None)"
      ]
     },
     "execution_count": 10,
     "metadata": {},
     "output_type": "execute_result"
    }
   ],
   "source": [
    "# Now we Fit the model of the training data:\n",
    "\n",
    "model.fit(X_train, Y_train)"
   ]
  },
  {
   "cell_type": "code",
   "execution_count": 11,
   "metadata": {},
   "outputs": [],
   "source": [
    "predicted = model.predict(X_test)"
   ]
  },
  {
   "cell_type": "code",
   "execution_count": 12,
   "metadata": {},
   "outputs": [],
   "source": [
    "from sklearn.metrics import confusion_matrix\n",
    "from sklearn.metrics import accuracy_score\n",
    "from sklearn.metrics import precision_recall_curve\n",
    "from sklearn.metrics import precision_score\n",
    "from sklearn.metrics import classification_report\n"
   ]
  },
  {
   "cell_type": "code",
   "execution_count": 13,
   "metadata": {},
   "outputs": [
    {
     "data": {
      "text/plain": [
       "array([[13,  0,  0],\n",
       "       [ 0, 16,  1],\n",
       "       [ 0,  1,  7]], dtype=int64)"
      ]
     },
     "execution_count": 13,
     "metadata": {},
     "output_type": "execute_result"
    }
   ],
   "source": [
    "confusion_matrix(Y_test, predicted)"
   ]
  },
  {
   "cell_type": "code",
   "execution_count": 14,
   "metadata": {},
   "outputs": [
    {
     "data": {
      "text/plain": [
       "0.9473684210526315"
      ]
     },
     "execution_count": 14,
     "metadata": {},
     "output_type": "execute_result"
    }
   ],
   "source": [
    "accuracy_score(Y_test, predicted)"
   ]
  },
  {
   "cell_type": "code",
   "execution_count": 15,
   "metadata": {},
   "outputs": [],
   "source": [
    "########################################################################################\n",
    "########################################################################################\n",
    "########################################################################################\n",
    "\n",
    "                # Spam Classification using Multinomial Naive Bayes:\n",
    "\n",
    "########################################################################################\n",
    "########################################################################################\n",
    "########################################################################################"
   ]
  },
  {
   "cell_type": "code",
   "execution_count": 16,
   "metadata": {},
   "outputs": [],
   "source": [
    "emails = pd.read_csv('spam.csv', sep = ',',  encoding='latin-1')"
   ]
  },
  {
   "cell_type": "code",
   "execution_count": 17,
   "metadata": {},
   "outputs": [],
   "source": [
    "emails = emails.iloc[:,0:2]"
   ]
  },
  {
   "cell_type": "code",
   "execution_count": 18,
   "metadata": {},
   "outputs": [
    {
     "data": {
      "text/html": [
       "<div>\n",
       "<style scoped>\n",
       "    .dataframe tbody tr th:only-of-type {\n",
       "        vertical-align: middle;\n",
       "    }\n",
       "\n",
       "    .dataframe tbody tr th {\n",
       "        vertical-align: top;\n",
       "    }\n",
       "\n",
       "    .dataframe thead th {\n",
       "        text-align: right;\n",
       "    }\n",
       "</style>\n",
       "<table border=\"1\" class=\"dataframe\">\n",
       "  <thead>\n",
       "    <tr style=\"text-align: right;\">\n",
       "      <th></th>\n",
       "      <th>v1</th>\n",
       "      <th>v2</th>\n",
       "    </tr>\n",
       "  </thead>\n",
       "  <tbody>\n",
       "    <tr>\n",
       "      <th>0</th>\n",
       "      <td>ham</td>\n",
       "      <td>Go until jurong point, crazy.. Available only ...</td>\n",
       "    </tr>\n",
       "    <tr>\n",
       "      <th>1</th>\n",
       "      <td>ham</td>\n",
       "      <td>Ok lar... Joking wif u oni...</td>\n",
       "    </tr>\n",
       "    <tr>\n",
       "      <th>2</th>\n",
       "      <td>spam</td>\n",
       "      <td>Free entry in 2 a wkly comp to win FA Cup fina...</td>\n",
       "    </tr>\n",
       "    <tr>\n",
       "      <th>3</th>\n",
       "      <td>ham</td>\n",
       "      <td>U dun say so early hor... U c already then say...</td>\n",
       "    </tr>\n",
       "    <tr>\n",
       "      <th>4</th>\n",
       "      <td>ham</td>\n",
       "      <td>Nah I don't think he goes to usf, he lives aro...</td>\n",
       "    </tr>\n",
       "  </tbody>\n",
       "</table>\n",
       "</div>"
      ],
      "text/plain": [
       "     v1                                                 v2\n",
       "0   ham  Go until jurong point, crazy.. Available only ...\n",
       "1   ham                      Ok lar... Joking wif u oni...\n",
       "2  spam  Free entry in 2 a wkly comp to win FA Cup fina...\n",
       "3   ham  U dun say so early hor... U c already then say...\n",
       "4   ham  Nah I don't think he goes to usf, he lives aro..."
      ]
     },
     "execution_count": 18,
     "metadata": {},
     "output_type": "execute_result"
    }
   ],
   "source": [
    "emails.head()"
   ]
  },
  {
   "cell_type": "code",
   "execution_count": 19,
   "metadata": {},
   "outputs": [
    {
     "data": {
      "text/plain": [
       "(5572, 2)"
      ]
     },
     "execution_count": 19,
     "metadata": {},
     "output_type": "execute_result"
    }
   ],
   "source": [
    "emails.shape"
   ]
  },
  {
   "cell_type": "code",
   "execution_count": 20,
   "metadata": {},
   "outputs": [
    {
     "data": {
      "text/html": [
       "<div>\n",
       "<style scoped>\n",
       "    .dataframe tbody tr th:only-of-type {\n",
       "        vertical-align: middle;\n",
       "    }\n",
       "\n",
       "    .dataframe tbody tr th {\n",
       "        vertical-align: top;\n",
       "    }\n",
       "\n",
       "    .dataframe thead th {\n",
       "        text-align: right;\n",
       "    }\n",
       "</style>\n",
       "<table border=\"1\" class=\"dataframe\">\n",
       "  <thead>\n",
       "    <tr style=\"text-align: right;\">\n",
       "      <th></th>\n",
       "      <th>v1</th>\n",
       "      <th>v2</th>\n",
       "    </tr>\n",
       "  </thead>\n",
       "  <tbody>\n",
       "    <tr>\n",
       "      <th>0</th>\n",
       "      <td>ham</td>\n",
       "      <td>go until jurong point, crazy.. available only ...</td>\n",
       "    </tr>\n",
       "    <tr>\n",
       "      <th>1</th>\n",
       "      <td>ham</td>\n",
       "      <td>ok lar... joking wif u oni...</td>\n",
       "    </tr>\n",
       "    <tr>\n",
       "      <th>2</th>\n",
       "      <td>spam</td>\n",
       "      <td>free entry in 2 a wkly comp to win fa cup fina...</td>\n",
       "    </tr>\n",
       "    <tr>\n",
       "      <th>3</th>\n",
       "      <td>ham</td>\n",
       "      <td>u dun say so early hor... u c already then say...</td>\n",
       "    </tr>\n",
       "    <tr>\n",
       "      <th>4</th>\n",
       "      <td>ham</td>\n",
       "      <td>nah i don't think he goes to usf, he lives aro...</td>\n",
       "    </tr>\n",
       "  </tbody>\n",
       "</table>\n",
       "</div>"
      ],
      "text/plain": [
       "     v1                                                 v2\n",
       "0   ham  go until jurong point, crazy.. available only ...\n",
       "1   ham                      ok lar... joking wif u oni...\n",
       "2  spam  free entry in 2 a wkly comp to win fa cup fina...\n",
       "3   ham  u dun say so early hor... u c already then say...\n",
       "4   ham  nah i don't think he goes to usf, he lives aro..."
      ]
     },
     "execution_count": 20,
     "metadata": {},
     "output_type": "execute_result"
    }
   ],
   "source": [
    "# Lowercasing the senteces column:\n",
    "\n",
    "emails['v2'] = emails.v2.str.lower()\n",
    "\n",
    "emails.head()\n"
   ]
  },
  {
   "cell_type": "code",
   "execution_count": 21,
   "metadata": {},
   "outputs": [
    {
     "data": {
      "text/html": [
       "<div>\n",
       "<style scoped>\n",
       "    .dataframe tbody tr th:only-of-type {\n",
       "        vertical-align: middle;\n",
       "    }\n",
       "\n",
       "    .dataframe tbody tr th {\n",
       "        vertical-align: top;\n",
       "    }\n",
       "\n",
       "    .dataframe thead th {\n",
       "        text-align: right;\n",
       "    }\n",
       "</style>\n",
       "<table border=\"1\" class=\"dataframe\">\n",
       "  <thead>\n",
       "    <tr style=\"text-align: right;\">\n",
       "      <th></th>\n",
       "      <th>v1</th>\n",
       "      <th>v2</th>\n",
       "    </tr>\n",
       "  </thead>\n",
       "  <tbody>\n",
       "    <tr>\n",
       "      <th>0</th>\n",
       "      <td>ham</td>\n",
       "      <td>go until jurong point, crazy.. available only ...</td>\n",
       "    </tr>\n",
       "    <tr>\n",
       "      <th>1</th>\n",
       "      <td>ham</td>\n",
       "      <td>ok lar... joking wif u oni...</td>\n",
       "    </tr>\n",
       "    <tr>\n",
       "      <th>2</th>\n",
       "      <td>spam</td>\n",
       "      <td>free entry in 2 a wkly comp to win fa cup fina...</td>\n",
       "    </tr>\n",
       "    <tr>\n",
       "      <th>3</th>\n",
       "      <td>ham</td>\n",
       "      <td>u dun say so early hor... u c already then say...</td>\n",
       "    </tr>\n",
       "    <tr>\n",
       "      <th>4</th>\n",
       "      <td>ham</td>\n",
       "      <td>nah i don't think he goes to usf, he lives aro...</td>\n",
       "    </tr>\n",
       "  </tbody>\n",
       "</table>\n",
       "</div>"
      ],
      "text/plain": [
       "     v1                                                 v2\n",
       "0   ham  go until jurong point, crazy.. available only ...\n",
       "1   ham                      ok lar... joking wif u oni...\n",
       "2  spam  free entry in 2 a wkly comp to win fa cup fina...\n",
       "3   ham  u dun say so early hor... u c already then say...\n",
       "4   ham  nah i don't think he goes to usf, he lives aro..."
      ]
     },
     "execution_count": 21,
     "metadata": {},
     "output_type": "execute_result"
    }
   ],
   "source": [
    "emails.head()"
   ]
  },
  {
   "cell_type": "code",
   "execution_count": 22,
   "metadata": {},
   "outputs": [
    {
     "name": "stdout",
     "output_type": "stream",
     "text": [
      "[nltk_data] Downloading package punkt to C:\\Users\\anuj -\n",
      "[nltk_data]     laptop\\AppData\\Roaming\\nltk_data...\n",
      "[nltk_data]   Package punkt is already up-to-date!\n"
     ]
    }
   ],
   "source": [
    "import nltk\n",
    "nltk.download('punkt')\n",
    "\n",
    "from nltk.tokenize import sent_tokenize, word_tokenize\n",
    " "
   ]
  },
  {
   "cell_type": "code",
   "execution_count": 23,
   "metadata": {},
   "outputs": [
    {
     "data": {
      "text/plain": [
       "v1    object\n",
       "v2    object\n",
       "dtype: object"
      ]
     },
     "execution_count": 23,
     "metadata": {},
     "output_type": "execute_result"
    }
   ],
   "source": [
    "emails.dtypes"
   ]
  },
  {
   "cell_type": "code",
   "execution_count": 24,
   "metadata": {},
   "outputs": [],
   "source": [
    "emails['sentence'] = (list(emails['v2']))"
   ]
  },
  {
   "cell_type": "code",
   "execution_count": 25,
   "metadata": {},
   "outputs": [
    {
     "data": {
      "text/html": [
       "<div>\n",
       "<style scoped>\n",
       "    .dataframe tbody tr th:only-of-type {\n",
       "        vertical-align: middle;\n",
       "    }\n",
       "\n",
       "    .dataframe tbody tr th {\n",
       "        vertical-align: top;\n",
       "    }\n",
       "\n",
       "    .dataframe thead th {\n",
       "        text-align: right;\n",
       "    }\n",
       "</style>\n",
       "<table border=\"1\" class=\"dataframe\">\n",
       "  <thead>\n",
       "    <tr style=\"text-align: right;\">\n",
       "      <th></th>\n",
       "      <th>v1</th>\n",
       "      <th>v2</th>\n",
       "      <th>sentence</th>\n",
       "    </tr>\n",
       "  </thead>\n",
       "  <tbody>\n",
       "    <tr>\n",
       "      <th>0</th>\n",
       "      <td>ham</td>\n",
       "      <td>go until jurong point, crazy.. available only ...</td>\n",
       "      <td>go until jurong point, crazy.. available only ...</td>\n",
       "    </tr>\n",
       "    <tr>\n",
       "      <th>1</th>\n",
       "      <td>ham</td>\n",
       "      <td>ok lar... joking wif u oni...</td>\n",
       "      <td>ok lar... joking wif u oni...</td>\n",
       "    </tr>\n",
       "    <tr>\n",
       "      <th>2</th>\n",
       "      <td>spam</td>\n",
       "      <td>free entry in 2 a wkly comp to win fa cup fina...</td>\n",
       "      <td>free entry in 2 a wkly comp to win fa cup fina...</td>\n",
       "    </tr>\n",
       "    <tr>\n",
       "      <th>3</th>\n",
       "      <td>ham</td>\n",
       "      <td>u dun say so early hor... u c already then say...</td>\n",
       "      <td>u dun say so early hor... u c already then say...</td>\n",
       "    </tr>\n",
       "    <tr>\n",
       "      <th>4</th>\n",
       "      <td>ham</td>\n",
       "      <td>nah i don't think he goes to usf, he lives aro...</td>\n",
       "      <td>nah i don't think he goes to usf, he lives aro...</td>\n",
       "    </tr>\n",
       "  </tbody>\n",
       "</table>\n",
       "</div>"
      ],
      "text/plain": [
       "     v1                                                 v2  \\\n",
       "0   ham  go until jurong point, crazy.. available only ...   \n",
       "1   ham                      ok lar... joking wif u oni...   \n",
       "2  spam  free entry in 2 a wkly comp to win fa cup fina...   \n",
       "3   ham  u dun say so early hor... u c already then say...   \n",
       "4   ham  nah i don't think he goes to usf, he lives aro...   \n",
       "\n",
       "                                            sentence  \n",
       "0  go until jurong point, crazy.. available only ...  \n",
       "1                      ok lar... joking wif u oni...  \n",
       "2  free entry in 2 a wkly comp to win fa cup fina...  \n",
       "3  u dun say so early hor... u c already then say...  \n",
       "4  nah i don't think he goes to usf, he lives aro...  "
      ]
     },
     "execution_count": 25,
     "metadata": {},
     "output_type": "execute_result"
    }
   ],
   "source": [
    "emails.head()"
   ]
  },
  {
   "cell_type": "code",
   "execution_count": 26,
   "metadata": {},
   "outputs": [
    {
     "data": {
      "text/plain": [
       "0"
      ]
     },
     "execution_count": 26,
     "metadata": {},
     "output_type": "execute_result"
    }
   ],
   "source": [
    "sum(emails.sentence.isna())"
   ]
  },
  {
   "cell_type": "code",
   "execution_count": 27,
   "metadata": {},
   "outputs": [
    {
     "data": {
      "text/html": [
       "<div>\n",
       "<style scoped>\n",
       "    .dataframe tbody tr th:only-of-type {\n",
       "        vertical-align: middle;\n",
       "    }\n",
       "\n",
       "    .dataframe tbody tr th {\n",
       "        vertical-align: top;\n",
       "    }\n",
       "\n",
       "    .dataframe thead tr th {\n",
       "        text-align: left;\n",
       "    }\n",
       "\n",
       "    .dataframe thead tr:last-of-type th {\n",
       "        text-align: right;\n",
       "    }\n",
       "</style>\n",
       "<table border=\"1\" class=\"dataframe\">\n",
       "  <thead>\n",
       "    <tr>\n",
       "      <th></th>\n",
       "      <th colspan=\"4\" halign=\"left\">sentence</th>\n",
       "      <th colspan=\"4\" halign=\"left\">v2</th>\n",
       "    </tr>\n",
       "    <tr>\n",
       "      <th></th>\n",
       "      <th>count</th>\n",
       "      <th>unique</th>\n",
       "      <th>top</th>\n",
       "      <th>freq</th>\n",
       "      <th>count</th>\n",
       "      <th>unique</th>\n",
       "      <th>top</th>\n",
       "      <th>freq</th>\n",
       "    </tr>\n",
       "    <tr>\n",
       "      <th>v1</th>\n",
       "      <th></th>\n",
       "      <th></th>\n",
       "      <th></th>\n",
       "      <th></th>\n",
       "      <th></th>\n",
       "      <th></th>\n",
       "      <th></th>\n",
       "      <th></th>\n",
       "    </tr>\n",
       "  </thead>\n",
       "  <tbody>\n",
       "    <tr>\n",
       "      <th>ham</th>\n",
       "      <td>4825</td>\n",
       "      <td>4515</td>\n",
       "      <td>sorry, i'll call later</td>\n",
       "      <td>30</td>\n",
       "      <td>4825</td>\n",
       "      <td>4515</td>\n",
       "      <td>sorry, i'll call later</td>\n",
       "      <td>30</td>\n",
       "    </tr>\n",
       "    <tr>\n",
       "      <th>spam</th>\n",
       "      <td>747</td>\n",
       "      <td>653</td>\n",
       "      <td>please call our customer service representativ...</td>\n",
       "      <td>4</td>\n",
       "      <td>747</td>\n",
       "      <td>653</td>\n",
       "      <td>please call our customer service representativ...</td>\n",
       "      <td>4</td>\n",
       "    </tr>\n",
       "  </tbody>\n",
       "</table>\n",
       "</div>"
      ],
      "text/plain": [
       "     sentence                                                                 \\\n",
       "        count unique                                                top freq   \n",
       "v1                                                                             \n",
       "ham      4825   4515                             sorry, i'll call later   30   \n",
       "spam      747    653  please call our customer service representativ...    4   \n",
       "\n",
       "        v2                                                                 \n",
       "     count unique                                                top freq  \n",
       "v1                                                                         \n",
       "ham   4825   4515                             sorry, i'll call later   30  \n",
       "spam   747    653  please call our customer service representativ...    4  "
      ]
     },
     "execution_count": 27,
     "metadata": {},
     "output_type": "execute_result"
    }
   ],
   "source": [
    "emails.groupby('v1').describe()"
   ]
  },
  {
   "cell_type": "code",
   "execution_count": 28,
   "metadata": {},
   "outputs": [],
   "source": [
    "tokens = emails.sentence.apply(word_tokenize)\n",
    "emails['tokens']  = tokens"
   ]
  },
  {
   "cell_type": "code",
   "execution_count": 29,
   "metadata": {},
   "outputs": [
    {
     "data": {
      "text/plain": [
       "0    [go, until, jurong, point, ,, crazy.., availab...\n",
       "1             [ok, lar, ..., joking, wif, u, oni, ...]\n",
       "2    [free, entry, in, 2, a, wkly, comp, to, win, f...\n",
       "3    [u, dun, say, so, early, hor, ..., u, c, alrea...\n",
       "4    [nah, i, do, n't, think, he, goes, to, usf, ,,...\n",
       "Name: sentence, dtype: object"
      ]
     },
     "execution_count": 29,
     "metadata": {},
     "output_type": "execute_result"
    }
   ],
   "source": [
    "tokens.head()"
   ]
  },
  {
   "cell_type": "code",
   "execution_count": 30,
   "metadata": {},
   "outputs": [],
   "source": [
    "# Length of Sentences:"
   ]
  },
  {
   "cell_type": "code",
   "execution_count": 31,
   "metadata": {},
   "outputs": [],
   "source": [
    "emails['length'] = emails.sentence.apply(len)"
   ]
  },
  {
   "cell_type": "code",
   "execution_count": 32,
   "metadata": {},
   "outputs": [
    {
     "data": {
      "text/plain": [
       "array([<matplotlib.axes._subplots.AxesSubplot object at 0x0000016637529390>,\n",
       "       <matplotlib.axes._subplots.AxesSubplot object at 0x00000166375DD7F0>],\n",
       "      dtype=object)"
      ]
     },
     "execution_count": 32,
     "metadata": {},
     "output_type": "execute_result"
    },
    {
     "data": {
      "image/png": "[encoded data removed]",
      "text/plain": [
       "<Figure size 432x288 with 2 Axes>"
      ]
     },
     "metadata": {},
     "output_type": "display_data"
    }
   ],
   "source": [
    "# Plotting Histogram for length of sentence for spam vs notspam\n",
    "emails.hist('length' , by = 'v1')"
   ]
  },
  {
   "cell_type": "code",
   "execution_count": 33,
   "metadata": {},
   "outputs": [
    {
     "data": {
      "text/plain": [
       "0    go until jurong point, crazy.. available only ...\n",
       "1                        ok lar... joking wif u oni...\n",
       "2    free entry in 2 a wkly comp to win fa cup fina...\n",
       "3    u dun say so early hor... u c already then say...\n",
       "4    nah i don't think he goes to usf, he lives aro...\n",
       "Name: sentence, dtype: object"
      ]
     },
     "execution_count": 33,
     "metadata": {},
     "output_type": "execute_result"
    }
   ],
   "source": [
    "emails.sentence.head()"
   ]
  },
  {
   "cell_type": "code",
   "execution_count": 34,
   "metadata": {},
   "outputs": [
    {
     "data": {
      "text/html": [
       "<div>\n",
       "<style scoped>\n",
       "    .dataframe tbody tr th:only-of-type {\n",
       "        vertical-align: middle;\n",
       "    }\n",
       "\n",
       "    .dataframe tbody tr th {\n",
       "        vertical-align: top;\n",
       "    }\n",
       "\n",
       "    .dataframe thead th {\n",
       "        text-align: right;\n",
       "    }\n",
       "</style>\n",
       "<table border=\"1\" class=\"dataframe\">\n",
       "  <thead>\n",
       "    <tr style=\"text-align: right;\">\n",
       "      <th></th>\n",
       "      <th>v1</th>\n",
       "      <th>v2</th>\n",
       "      <th>sentence</th>\n",
       "      <th>tokens</th>\n",
       "      <th>length</th>\n",
       "    </tr>\n",
       "  </thead>\n",
       "  <tbody>\n",
       "    <tr>\n",
       "      <th>0</th>\n",
       "      <td>ham</td>\n",
       "      <td>go until jurong point, crazy.. available only ...</td>\n",
       "      <td>go until jurong point, crazy.. available only ...</td>\n",
       "      <td>[go, until, jurong, point, ,, crazy.., availab...</td>\n",
       "      <td>111</td>\n",
       "    </tr>\n",
       "    <tr>\n",
       "      <th>1</th>\n",
       "      <td>ham</td>\n",
       "      <td>ok lar... joking wif u oni...</td>\n",
       "      <td>ok lar... joking wif u oni...</td>\n",
       "      <td>[ok, lar, ..., joking, wif, u, oni, ...]</td>\n",
       "      <td>29</td>\n",
       "    </tr>\n",
       "    <tr>\n",
       "      <th>2</th>\n",
       "      <td>spam</td>\n",
       "      <td>free entry in 2 a wkly comp to win fa cup fina...</td>\n",
       "      <td>free entry in 2 a wkly comp to win fa cup fina...</td>\n",
       "      <td>[free, entry, in, 2, a, wkly, comp, to, win, f...</td>\n",
       "      <td>155</td>\n",
       "    </tr>\n",
       "    <tr>\n",
       "      <th>3</th>\n",
       "      <td>ham</td>\n",
       "      <td>u dun say so early hor... u c already then say...</td>\n",
       "      <td>u dun say so early hor... u c already then say...</td>\n",
       "      <td>[u, dun, say, so, early, hor, ..., u, c, alrea...</td>\n",
       "      <td>49</td>\n",
       "    </tr>\n",
       "    <tr>\n",
       "      <th>4</th>\n",
       "      <td>ham</td>\n",
       "      <td>nah i don't think he goes to usf, he lives aro...</td>\n",
       "      <td>nah i don't think he goes to usf, he lives aro...</td>\n",
       "      <td>[nah, i, do, n't, think, he, goes, to, usf, ,,...</td>\n",
       "      <td>61</td>\n",
       "    </tr>\n",
       "  </tbody>\n",
       "</table>\n",
       "</div>"
      ],
      "text/plain": [
       "     v1                                                 v2  \\\n",
       "0   ham  go until jurong point, crazy.. available only ...   \n",
       "1   ham                      ok lar... joking wif u oni...   \n",
       "2  spam  free entry in 2 a wkly comp to win fa cup fina...   \n",
       "3   ham  u dun say so early hor... u c already then say...   \n",
       "4   ham  nah i don't think he goes to usf, he lives aro...   \n",
       "\n",
       "                                            sentence  \\\n",
       "0  go until jurong point, crazy.. available only ...   \n",
       "1                      ok lar... joking wif u oni...   \n",
       "2  free entry in 2 a wkly comp to win fa cup fina...   \n",
       "3  u dun say so early hor... u c already then say...   \n",
       "4  nah i don't think he goes to usf, he lives aro...   \n",
       "\n",
       "                                              tokens  length  \n",
       "0  [go, until, jurong, point, ,, crazy.., availab...     111  \n",
       "1           [ok, lar, ..., joking, wif, u, oni, ...]      29  \n",
       "2  [free, entry, in, 2, a, wkly, comp, to, win, f...     155  \n",
       "3  [u, dun, say, so, early, hor, ..., u, c, alrea...      49  \n",
       "4  [nah, i, do, n't, think, he, goes, to, usf, ,,...      61  "
      ]
     },
     "execution_count": 34,
     "metadata": {},
     "output_type": "execute_result"
    }
   ],
   "source": [
    "emails.head()"
   ]
  },
  {
   "cell_type": "code",
   "execution_count": 35,
   "metadata": {},
   "outputs": [
    {
     "name": "stdout",
     "output_type": "stream",
     "text": [
      "[nltk_data] Downloading package stopwords to C:\\Users\\anuj -\n",
      "[nltk_data]     laptop\\AppData\\Roaming\\nltk_data...\n",
      "[nltk_data]   Package stopwords is already up-to-date!\n"
     ]
    }
   ],
   "source": [
    "# Removing the Stop Words:\n",
    "\n",
    "# step1:\n",
    "# Looking at English Stop Words First\n",
    "from nltk.corpus import stopwords\n",
    "nltk.download('stopwords')\n",
    "\n",
    "stopwords_en = stopwords.words('english')\n",
    "#print(stopwords_en)\n"
   ]
  },
  {
   "cell_type": "code",
   "execution_count": 36,
   "metadata": {},
   "outputs": [
    {
     "data": {
      "text/html": [
       "<div>\n",
       "<style scoped>\n",
       "    .dataframe tbody tr th:only-of-type {\n",
       "        vertical-align: middle;\n",
       "    }\n",
       "\n",
       "    .dataframe tbody tr th {\n",
       "        vertical-align: top;\n",
       "    }\n",
       "\n",
       "    .dataframe thead th {\n",
       "        text-align: right;\n",
       "    }\n",
       "</style>\n",
       "<table border=\"1\" class=\"dataframe\">\n",
       "  <thead>\n",
       "    <tr style=\"text-align: right;\">\n",
       "      <th></th>\n",
       "      <th>length</th>\n",
       "      <th>length_2</th>\n",
       "    </tr>\n",
       "  </thead>\n",
       "  <tbody>\n",
       "    <tr>\n",
       "      <th>0</th>\n",
       "      <td>111</td>\n",
       "      <td>19</td>\n",
       "    </tr>\n",
       "    <tr>\n",
       "      <th>1</th>\n",
       "      <td>29</td>\n",
       "      <td>8</td>\n",
       "    </tr>\n",
       "    <tr>\n",
       "      <th>2</th>\n",
       "      <td>155</td>\n",
       "      <td>30</td>\n",
       "    </tr>\n",
       "    <tr>\n",
       "      <th>3</th>\n",
       "      <td>49</td>\n",
       "      <td>11</td>\n",
       "    </tr>\n",
       "    <tr>\n",
       "      <th>4</th>\n",
       "      <td>61</td>\n",
       "      <td>9</td>\n",
       "    </tr>\n",
       "    <tr>\n",
       "      <th>5</th>\n",
       "      <td>148</td>\n",
       "      <td>25</td>\n",
       "    </tr>\n",
       "    <tr>\n",
       "      <th>6</th>\n",
       "      <td>77</td>\n",
       "      <td>10</td>\n",
       "    </tr>\n",
       "    <tr>\n",
       "      <th>7</th>\n",
       "      <td>160</td>\n",
       "      <td>20</td>\n",
       "    </tr>\n",
       "    <tr>\n",
       "      <th>8</th>\n",
       "      <td>158</td>\n",
       "      <td>23</td>\n",
       "    </tr>\n",
       "    <tr>\n",
       "      <th>9</th>\n",
       "      <td>154</td>\n",
       "      <td>20</td>\n",
       "    </tr>\n",
       "    <tr>\n",
       "      <th>10</th>\n",
       "      <td>109</td>\n",
       "      <td>19</td>\n",
       "    </tr>\n",
       "    <tr>\n",
       "      <th>11</th>\n",
       "      <td>136</td>\n",
       "      <td>25</td>\n",
       "    </tr>\n",
       "    <tr>\n",
       "      <th>12</th>\n",
       "      <td>156</td>\n",
       "      <td>22</td>\n",
       "    </tr>\n",
       "    <tr>\n",
       "      <th>13</th>\n",
       "      <td>196</td>\n",
       "      <td>19</td>\n",
       "    </tr>\n",
       "    <tr>\n",
       "      <th>14</th>\n",
       "      <td>35</td>\n",
       "      <td>4</td>\n",
       "    </tr>\n",
       "    <tr>\n",
       "      <th>15</th>\n",
       "      <td>149</td>\n",
       "      <td>21</td>\n",
       "    </tr>\n",
       "    <tr>\n",
       "      <th>16</th>\n",
       "      <td>26</td>\n",
       "      <td>7</td>\n",
       "    </tr>\n",
       "    <tr>\n",
       "      <th>17</th>\n",
       "      <td>81</td>\n",
       "      <td>15</td>\n",
       "    </tr>\n",
       "    <tr>\n",
       "      <th>18</th>\n",
       "      <td>58</td>\n",
       "      <td>10</td>\n",
       "    </tr>\n",
       "    <tr>\n",
       "      <th>19</th>\n",
       "      <td>156</td>\n",
       "      <td>25</td>\n",
       "    </tr>\n",
       "  </tbody>\n",
       "</table>\n",
       "</div>"
      ],
      "text/plain": [
       "    length  length_2\n",
       "0      111        19\n",
       "1       29         8\n",
       "2      155        30\n",
       "3       49        11\n",
       "4       61         9\n",
       "5      148        25\n",
       "6       77        10\n",
       "7      160        20\n",
       "8      158        23\n",
       "9      154        20\n",
       "10     109        19\n",
       "11     136        25\n",
       "12     156        22\n",
       "13     196        19\n",
       "14      35         4\n",
       "15     149        21\n",
       "16      26         7\n",
       "17      81        15\n",
       "18      58        10\n",
       "19     156        25"
      ]
     },
     "execution_count": 36,
     "metadata": {},
     "output_type": "execute_result"
    }
   ],
   "source": [
    "# Removing the Stop Words:\n",
    "\n",
    "# step2:\n",
    "\n",
    "#emails['sentence_stop_removed']= [word for word in emails.sentence if not word in stopwords_en ]\n",
    "\n",
    "def stop_removal(tokens):\n",
    "    sentence_stop_removed = [] \n",
    "    for w in tokens:\n",
    "        if w not in stopwords_en: \n",
    "            sentence_stop_removed .append(w) \n",
    "    return (sentence_stop_removed )\n",
    "\n",
    "emails['sentence_stop_removed'] = emails.tokens.apply(stop_removal)\n",
    "                                                      \n",
    "                                                      \n",
    "emails['sentence_stop_removed'].head() \n",
    "\n",
    "emails['length_2'] = emails['sentence_stop_removed'].apply(len)\n",
    "\n",
    "emails[['length','length_2']].head(20)"
   ]
  },
  {
   "cell_type": "code",
   "execution_count": 37,
   "metadata": {},
   "outputs": [
    {
     "data": {
      "text/plain": [
       "'!\"#$%&\\'()*+,-./:;<=>?@[\\\\]^_`{|}~.'"
      ]
     },
     "execution_count": 37,
     "metadata": {},
     "output_type": "execute_result"
    }
   ],
   "source": [
    "from string import punctuation\n",
    "# It's a string so we have to them into a set type\n",
    "punctuation = punctuation + '.'\n",
    "\n",
    "punctuation"
   ]
  },
  {
   "cell_type": "code",
   "execution_count": 38,
   "metadata": {},
   "outputs": [
    {
     "data": {
      "text/plain": [
       "(0    [go, jurong, point, ,, crazy.., available, bug...\n",
       " 1             [ok, lar, ..., joking, wif, u, oni, ...]\n",
       " 2    [free, entry, 2, wkly, comp, win, fa, cup, fin...\n",
       " 3    [u, dun, say, early, hor, ..., u, c, already, ...\n",
       " 4    [nah, n't, think, goes, usf, ,, lives, around,...\n",
       " Name: sentence_stop_removed, dtype: object,\n",
       " 0    [go, jurong, point, crazy.., available, bugis,...\n",
       " 1             [ok, lar, ..., joking, wif, u, oni, ...]\n",
       " 2    [free, entry, 2, wkly, comp, win, fa, cup, fin...\n",
       " 3    [u, dun, say, early, hor, ..., u, c, already, ...\n",
       " 4    [nah, n't, think, goes, usf, lives, around, th...\n",
       " Name: sentence_stop_punc_removed, dtype: object)"
      ]
     },
     "execution_count": 38,
     "metadata": {},
     "output_type": "execute_result"
    }
   ],
   "source": [
    "# Removing Punctuations Now:\n",
    "\n",
    "from string import punctuation\n",
    "# It's a string so we have to them into a set type\n",
    "punctuation\n",
    "\n",
    "\n",
    "def punc_removal(tokens):\n",
    "    sentence_stop_punc_removed = [] \n",
    "    for w in tokens:\n",
    "        if w not in punctuation: \n",
    "            sentence_stop_punc_removed .append(w) \n",
    "    return (sentence_stop_punc_removed )\n",
    "\n",
    "emails['sentence_stop_punc_removed'] = emails.sentence_stop_removed.apply(punc_removal)\n",
    "\n",
    "emails['sentence_stop_removed'].head(), emails['sentence_stop_punc_removed'].head() \n",
    "#temp_str = str(emails['sentence_stop_removed'])\n"
   ]
  },
  {
   "cell_type": "code",
   "execution_count": 39,
   "metadata": {},
   "outputs": [
    {
     "data": {
      "text/html": [
       "<div>\n",
       "<style scoped>\n",
       "    .dataframe tbody tr th:only-of-type {\n",
       "        vertical-align: middle;\n",
       "    }\n",
       "\n",
       "    .dataframe tbody tr th {\n",
       "        vertical-align: top;\n",
       "    }\n",
       "\n",
       "    .dataframe thead th {\n",
       "        text-align: right;\n",
       "    }\n",
       "</style>\n",
       "<table border=\"1\" class=\"dataframe\">\n",
       "  <thead>\n",
       "    <tr style=\"text-align: right;\">\n",
       "      <th></th>\n",
       "      <th>length</th>\n",
       "      <th>length_2</th>\n",
       "      <th>length_3</th>\n",
       "    </tr>\n",
       "  </thead>\n",
       "  <tbody>\n",
       "    <tr>\n",
       "      <th>0</th>\n",
       "      <td>111</td>\n",
       "      <td>19</td>\n",
       "      <td>18</td>\n",
       "    </tr>\n",
       "    <tr>\n",
       "      <th>1</th>\n",
       "      <td>29</td>\n",
       "      <td>8</td>\n",
       "      <td>8</td>\n",
       "    </tr>\n",
       "    <tr>\n",
       "      <th>2</th>\n",
       "      <td>155</td>\n",
       "      <td>30</td>\n",
       "      <td>27</td>\n",
       "    </tr>\n",
       "    <tr>\n",
       "      <th>3</th>\n",
       "      <td>49</td>\n",
       "      <td>11</td>\n",
       "      <td>11</td>\n",
       "    </tr>\n",
       "    <tr>\n",
       "      <th>4</th>\n",
       "      <td>61</td>\n",
       "      <td>9</td>\n",
       "      <td>8</td>\n",
       "    </tr>\n",
       "    <tr>\n",
       "      <th>5</th>\n",
       "      <td>148</td>\n",
       "      <td>25</td>\n",
       "      <td>21</td>\n",
       "    </tr>\n",
       "    <tr>\n",
       "      <th>6</th>\n",
       "      <td>77</td>\n",
       "      <td>10</td>\n",
       "      <td>8</td>\n",
       "    </tr>\n",
       "    <tr>\n",
       "      <th>7</th>\n",
       "      <td>160</td>\n",
       "      <td>20</td>\n",
       "      <td>16</td>\n",
       "    </tr>\n",
       "    <tr>\n",
       "      <th>8</th>\n",
       "      <td>158</td>\n",
       "      <td>23</td>\n",
       "      <td>18</td>\n",
       "    </tr>\n",
       "    <tr>\n",
       "      <th>9</th>\n",
       "      <td>154</td>\n",
       "      <td>20</td>\n",
       "      <td>18</td>\n",
       "    </tr>\n",
       "    <tr>\n",
       "      <th>10</th>\n",
       "      <td>109</td>\n",
       "      <td>19</td>\n",
       "      <td>16</td>\n",
       "    </tr>\n",
       "    <tr>\n",
       "      <th>11</th>\n",
       "      <td>136</td>\n",
       "      <td>25</td>\n",
       "      <td>21</td>\n",
       "    </tr>\n",
       "    <tr>\n",
       "      <th>12</th>\n",
       "      <td>156</td>\n",
       "      <td>22</td>\n",
       "      <td>17</td>\n",
       "    </tr>\n",
       "    <tr>\n",
       "      <th>13</th>\n",
       "      <td>196</td>\n",
       "      <td>19</td>\n",
       "      <td>16</td>\n",
       "    </tr>\n",
       "    <tr>\n",
       "      <th>14</th>\n",
       "      <td>35</td>\n",
       "      <td>4</td>\n",
       "      <td>2</td>\n",
       "    </tr>\n",
       "    <tr>\n",
       "      <th>15</th>\n",
       "      <td>149</td>\n",
       "      <td>21</td>\n",
       "      <td>14</td>\n",
       "    </tr>\n",
       "    <tr>\n",
       "      <th>16</th>\n",
       "      <td>26</td>\n",
       "      <td>7</td>\n",
       "      <td>5</td>\n",
       "    </tr>\n",
       "    <tr>\n",
       "      <th>17</th>\n",
       "      <td>81</td>\n",
       "      <td>15</td>\n",
       "      <td>13</td>\n",
       "    </tr>\n",
       "    <tr>\n",
       "      <th>18</th>\n",
       "      <td>58</td>\n",
       "      <td>10</td>\n",
       "      <td>9</td>\n",
       "    </tr>\n",
       "    <tr>\n",
       "      <th>19</th>\n",
       "      <td>156</td>\n",
       "      <td>25</td>\n",
       "      <td>21</td>\n",
       "    </tr>\n",
       "  </tbody>\n",
       "</table>\n",
       "</div>"
      ],
      "text/plain": [
       "    length  length_2  length_3\n",
       "0      111        19        18\n",
       "1       29         8         8\n",
       "2      155        30        27\n",
       "3       49        11        11\n",
       "4       61         9         8\n",
       "5      148        25        21\n",
       "6       77        10         8\n",
       "7      160        20        16\n",
       "8      158        23        18\n",
       "9      154        20        18\n",
       "10     109        19        16\n",
       "11     136        25        21\n",
       "12     156        22        17\n",
       "13     196        19        16\n",
       "14      35         4         2\n",
       "15     149        21        14\n",
       "16      26         7         5\n",
       "17      81        15        13\n",
       "18      58        10         9\n",
       "19     156        25        21"
      ]
     },
     "execution_count": 39,
     "metadata": {},
     "output_type": "execute_result"
    }
   ],
   "source": [
    "emails['length_3'] = emails['sentence_stop_punc_removed'].apply(len)\n",
    "\n",
    "emails[['length','length_2','length_3']].head(20)"
   ]
  },
  {
   "cell_type": "code",
   "execution_count": 40,
   "metadata": {},
   "outputs": [
    {
     "data": {
      "text/html": [
       "<div>\n",
       "<style scoped>\n",
       "    .dataframe tbody tr th:only-of-type {\n",
       "        vertical-align: middle;\n",
       "    }\n",
       "\n",
       "    .dataframe tbody tr th {\n",
       "        vertical-align: top;\n",
       "    }\n",
       "\n",
       "    .dataframe thead th {\n",
       "        text-align: right;\n",
       "    }\n",
       "</style>\n",
       "<table border=\"1\" class=\"dataframe\">\n",
       "  <thead>\n",
       "    <tr style=\"text-align: right;\">\n",
       "      <th></th>\n",
       "      <th>v1</th>\n",
       "      <th>v2</th>\n",
       "      <th>sentence</th>\n",
       "      <th>tokens</th>\n",
       "      <th>length</th>\n",
       "      <th>sentence_stop_removed</th>\n",
       "      <th>length_2</th>\n",
       "      <th>sentence_stop_punc_removed</th>\n",
       "      <th>length_3</th>\n",
       "    </tr>\n",
       "  </thead>\n",
       "  <tbody>\n",
       "    <tr>\n",
       "      <th>0</th>\n",
       "      <td>ham</td>\n",
       "      <td>go until jurong point, crazy.. available only ...</td>\n",
       "      <td>go until jurong point, crazy.. available only ...</td>\n",
       "      <td>[go, until, jurong, point, ,, crazy.., availab...</td>\n",
       "      <td>111</td>\n",
       "      <td>[go, jurong, point, ,, crazy.., available, bug...</td>\n",
       "      <td>19</td>\n",
       "      <td>go, jurong, point, crazy.., available, bugis, ...</td>\n",
       "      <td>18</td>\n",
       "    </tr>\n",
       "    <tr>\n",
       "      <th>1</th>\n",
       "      <td>ham</td>\n",
       "      <td>ok lar... joking wif u oni...</td>\n",
       "      <td>ok lar... joking wif u oni...</td>\n",
       "      <td>[ok, lar, ..., joking, wif, u, oni, ...]</td>\n",
       "      <td>29</td>\n",
       "      <td>[ok, lar, ..., joking, wif, u, oni, ...]</td>\n",
       "      <td>8</td>\n",
       "      <td>ok, lar, ..., joking, wif, u, oni, ...</td>\n",
       "      <td>8</td>\n",
       "    </tr>\n",
       "  </tbody>\n",
       "</table>\n",
       "</div>"
      ],
      "text/plain": [
       "    v1                                                 v2  \\\n",
       "0  ham  go until jurong point, crazy.. available only ...   \n",
       "1  ham                      ok lar... joking wif u oni...   \n",
       "\n",
       "                                            sentence  \\\n",
       "0  go until jurong point, crazy.. available only ...   \n",
       "1                      ok lar... joking wif u oni...   \n",
       "\n",
       "                                              tokens  length  \\\n",
       "0  [go, until, jurong, point, ,, crazy.., availab...     111   \n",
       "1           [ok, lar, ..., joking, wif, u, oni, ...]      29   \n",
       "\n",
       "                               sentence_stop_removed  length_2  \\\n",
       "0  [go, jurong, point, ,, crazy.., available, bug...        19   \n",
       "1           [ok, lar, ..., joking, wif, u, oni, ...]         8   \n",
       "\n",
       "                          sentence_stop_punc_removed  length_3  \n",
       "0  go, jurong, point, crazy.., available, bugis, ...        18  \n",
       "1             ok, lar, ..., joking, wif, u, oni, ...         8  "
      ]
     },
     "execution_count": 40,
     "metadata": {},
     "output_type": "execute_result"
    }
   ],
   "source": [
    "# Converting the column - emails.sentence_stop_punc_removed from a list of token to a string or sentence:\n",
    "# That is converting a pandas DF list to a String:\n",
    "\n",
    "emails.sentence_stop_punc_removed = emails.sentence_stop_punc_removed.apply(', '.join)\n",
    "\n",
    "emails.head(2)\n"
   ]
  },
  {
   "cell_type": "code",
   "execution_count": 41,
   "metadata": {},
   "outputs": [
    {
     "data": {
      "text/html": [
       "<div>\n",
       "<style scoped>\n",
       "    .dataframe tbody tr th:only-of-type {\n",
       "        vertical-align: middle;\n",
       "    }\n",
       "\n",
       "    .dataframe tbody tr th {\n",
       "        vertical-align: top;\n",
       "    }\n",
       "\n",
       "    .dataframe thead th {\n",
       "        text-align: right;\n",
       "    }\n",
       "</style>\n",
       "<table border=\"1\" class=\"dataframe\">\n",
       "  <thead>\n",
       "    <tr style=\"text-align: right;\">\n",
       "      <th></th>\n",
       "      <th>v1</th>\n",
       "      <th>v2</th>\n",
       "      <th>sentence</th>\n",
       "      <th>tokens</th>\n",
       "      <th>length</th>\n",
       "      <th>sentence_stop_removed</th>\n",
       "      <th>length_2</th>\n",
       "      <th>sentence_stop_punc_removed</th>\n",
       "      <th>length_3</th>\n",
       "      <th>sentence_stop_punc_stem_removed</th>\n",
       "    </tr>\n",
       "  </thead>\n",
       "  <tbody>\n",
       "    <tr>\n",
       "      <th>0</th>\n",
       "      <td>ham</td>\n",
       "      <td>go until jurong point, crazy.. available only ...</td>\n",
       "      <td>go until jurong point, crazy.. available only ...</td>\n",
       "      <td>[go, until, jurong, point, ,, crazy.., availab...</td>\n",
       "      <td>111</td>\n",
       "      <td>[go, jurong, point, ,, crazy.., available, bug...</td>\n",
       "      <td>19</td>\n",
       "      <td>go, jurong, point, crazy.., available, bugis, ...</td>\n",
       "      <td>18</td>\n",
       "      <td>[go, jurong, point, crazy.., available, bugis,...</td>\n",
       "    </tr>\n",
       "    <tr>\n",
       "      <th>1</th>\n",
       "      <td>ham</td>\n",
       "      <td>ok lar... joking wif u oni...</td>\n",
       "      <td>ok lar... joking wif u oni...</td>\n",
       "      <td>[ok, lar, ..., joking, wif, u, oni, ...]</td>\n",
       "      <td>29</td>\n",
       "      <td>[ok, lar, ..., joking, wif, u, oni, ...]</td>\n",
       "      <td>8</td>\n",
       "      <td>ok, lar, ..., joking, wif, u, oni, ...</td>\n",
       "      <td>8</td>\n",
       "      <td>[ok, lar, ..., joking, wif, u, oni, ...]</td>\n",
       "    </tr>\n",
       "  </tbody>\n",
       "</table>\n",
       "</div>"
      ],
      "text/plain": [
       "    v1                                                 v2  \\\n",
       "0  ham  go until jurong point, crazy.. available only ...   \n",
       "1  ham                      ok lar... joking wif u oni...   \n",
       "\n",
       "                                            sentence  \\\n",
       "0  go until jurong point, crazy.. available only ...   \n",
       "1                      ok lar... joking wif u oni...   \n",
       "\n",
       "                                              tokens  length  \\\n",
       "0  [go, until, jurong, point, ,, crazy.., availab...     111   \n",
       "1           [ok, lar, ..., joking, wif, u, oni, ...]      29   \n",
       "\n",
       "                               sentence_stop_removed  length_2  \\\n",
       "0  [go, jurong, point, ,, crazy.., available, bug...        19   \n",
       "1           [ok, lar, ..., joking, wif, u, oni, ...]         8   \n",
       "\n",
       "                          sentence_stop_punc_removed  length_3  \\\n",
       "0  go, jurong, point, crazy.., available, bugis, ...        18   \n",
       "1             ok, lar, ..., joking, wif, u, oni, ...         8   \n",
       "\n",
       "                     sentence_stop_punc_stem_removed  \n",
       "0  [go, jurong, point, crazy.., available, bugis,...  \n",
       "1           [ok, lar, ..., joking, wif, u, oni, ...]  "
      ]
     },
     "execution_count": 41,
     "metadata": {},
     "output_type": "execute_result"
    }
   ],
   "source": [
    "# Stemming in python:\n",
    "# Example: working, worked, workable --- work\n",
    "\n",
    "from nltk.stem import PorterStemmer\n",
    "porter = PorterStemmer()\n",
    "\n",
    "\n",
    "def stem_removal(tokens):\n",
    "    stem_removed = [] \n",
    "    stem_removed.append(porter.stem(tokens)) \n",
    "    return (stem_removed )\n",
    "\n",
    "emails['sentence_stop_punc_stem_removed'] = emails.sentence_stop_punc_removed.apply(stem_removal)\n",
    "\n",
    "emails.head(2)\n"
   ]
  },
  {
   "cell_type": "code",
   "execution_count": 42,
   "metadata": {},
   "outputs": [],
   "source": [
    "emails.sentence_stop_punc_stem_removed = emails.sentence_stop_punc_stem_removed.apply(', '.join)"
   ]
  },
  {
   "cell_type": "code",
   "execution_count": 43,
   "metadata": {},
   "outputs": [
    {
     "data": {
      "text/html": [
       "<div>\n",
       "<style scoped>\n",
       "    .dataframe tbody tr th:only-of-type {\n",
       "        vertical-align: middle;\n",
       "    }\n",
       "\n",
       "    .dataframe tbody tr th {\n",
       "        vertical-align: top;\n",
       "    }\n",
       "\n",
       "    .dataframe thead th {\n",
       "        text-align: right;\n",
       "    }\n",
       "</style>\n",
       "<table border=\"1\" class=\"dataframe\">\n",
       "  <thead>\n",
       "    <tr style=\"text-align: right;\">\n",
       "      <th></th>\n",
       "      <th>v1</th>\n",
       "      <th>v2</th>\n",
       "      <th>sentence</th>\n",
       "      <th>tokens</th>\n",
       "      <th>length</th>\n",
       "      <th>sentence_stop_removed</th>\n",
       "      <th>length_2</th>\n",
       "      <th>sentence_stop_punc_removed</th>\n",
       "      <th>length_3</th>\n",
       "      <th>sentence_stop_punc_stem_removed</th>\n",
       "    </tr>\n",
       "  </thead>\n",
       "  <tbody>\n",
       "    <tr>\n",
       "      <th>0</th>\n",
       "      <td>ham</td>\n",
       "      <td>go until jurong point, crazy.. available only ...</td>\n",
       "      <td>go until jurong point, crazy.. available only ...</td>\n",
       "      <td>[go, until, jurong, point, ,, crazy.., availab...</td>\n",
       "      <td>111</td>\n",
       "      <td>[go, jurong, point, ,, crazy.., available, bug...</td>\n",
       "      <td>19</td>\n",
       "      <td>go, jurong, point, crazy.., available, bugis, ...</td>\n",
       "      <td>18</td>\n",
       "      <td>go, jurong, point, crazy.., available, bugis, ...</td>\n",
       "    </tr>\n",
       "    <tr>\n",
       "      <th>1</th>\n",
       "      <td>ham</td>\n",
       "      <td>ok lar... joking wif u oni...</td>\n",
       "      <td>ok lar... joking wif u oni...</td>\n",
       "      <td>[ok, lar, ..., joking, wif, u, oni, ...]</td>\n",
       "      <td>29</td>\n",
       "      <td>[ok, lar, ..., joking, wif, u, oni, ...]</td>\n",
       "      <td>8</td>\n",
       "      <td>ok, lar, ..., joking, wif, u, oni, ...</td>\n",
       "      <td>8</td>\n",
       "      <td>ok, lar, ..., joking, wif, u, oni, ...</td>\n",
       "    </tr>\n",
       "  </tbody>\n",
       "</table>\n",
       "</div>"
      ],
      "text/plain": [
       "    v1                                                 v2  \\\n",
       "0  ham  go until jurong point, crazy.. available only ...   \n",
       "1  ham                      ok lar... joking wif u oni...   \n",
       "\n",
       "                                            sentence  \\\n",
       "0  go until jurong point, crazy.. available only ...   \n",
       "1                      ok lar... joking wif u oni...   \n",
       "\n",
       "                                              tokens  length  \\\n",
       "0  [go, until, jurong, point, ,, crazy.., availab...     111   \n",
       "1           [ok, lar, ..., joking, wif, u, oni, ...]      29   \n",
       "\n",
       "                               sentence_stop_removed  length_2  \\\n",
       "0  [go, jurong, point, ,, crazy.., available, bug...        19   \n",
       "1           [ok, lar, ..., joking, wif, u, oni, ...]         8   \n",
       "\n",
       "                          sentence_stop_punc_removed  length_3  \\\n",
       "0  go, jurong, point, crazy.., available, bugis, ...        18   \n",
       "1             ok, lar, ..., joking, wif, u, oni, ...         8   \n",
       "\n",
       "                     sentence_stop_punc_stem_removed  \n",
       "0  go, jurong, point, crazy.., available, bugis, ...  \n",
       "1             ok, lar, ..., joking, wif, u, oni, ...  "
      ]
     },
     "execution_count": 43,
     "metadata": {},
     "output_type": "execute_result"
    }
   ],
   "source": [
    "emails.head(2)"
   ]
  },
  {
   "cell_type": "code",
   "execution_count": 44,
   "metadata": {},
   "outputs": [
    {
     "data": {
      "text/html": [
       "<div>\n",
       "<style scoped>\n",
       "    .dataframe tbody tr th:only-of-type {\n",
       "        vertical-align: middle;\n",
       "    }\n",
       "\n",
       "    .dataframe tbody tr th {\n",
       "        vertical-align: top;\n",
       "    }\n",
       "\n",
       "    .dataframe thead th {\n",
       "        text-align: right;\n",
       "    }\n",
       "</style>\n",
       "<table border=\"1\" class=\"dataframe\">\n",
       "  <thead>\n",
       "    <tr style=\"text-align: right;\">\n",
       "      <th></th>\n",
       "      <th>length</th>\n",
       "      <th>length_2</th>\n",
       "      <th>length_3</th>\n",
       "      <th>length_4</th>\n",
       "    </tr>\n",
       "  </thead>\n",
       "  <tbody>\n",
       "    <tr>\n",
       "      <th>0</th>\n",
       "      <td>111</td>\n",
       "      <td>19</td>\n",
       "      <td>18</td>\n",
       "      <td>109</td>\n",
       "    </tr>\n",
       "    <tr>\n",
       "      <th>1</th>\n",
       "      <td>29</td>\n",
       "      <td>8</td>\n",
       "      <td>8</td>\n",
       "      <td>38</td>\n",
       "    </tr>\n",
       "    <tr>\n",
       "      <th>2</th>\n",
       "      <td>155</td>\n",
       "      <td>30</td>\n",
       "      <td>27</td>\n",
       "      <td>166</td>\n",
       "    </tr>\n",
       "    <tr>\n",
       "      <th>3</th>\n",
       "      <td>49</td>\n",
       "      <td>11</td>\n",
       "      <td>11</td>\n",
       "      <td>53</td>\n",
       "    </tr>\n",
       "    <tr>\n",
       "      <th>4</th>\n",
       "      <td>61</td>\n",
       "      <td>9</td>\n",
       "      <td>8</td>\n",
       "      <td>49</td>\n",
       "    </tr>\n",
       "    <tr>\n",
       "      <th>5</th>\n",
       "      <td>148</td>\n",
       "      <td>25</td>\n",
       "      <td>21</td>\n",
       "      <td>115</td>\n",
       "    </tr>\n",
       "    <tr>\n",
       "      <th>6</th>\n",
       "      <td>77</td>\n",
       "      <td>10</td>\n",
       "      <td>8</td>\n",
       "      <td>50</td>\n",
       "    </tr>\n",
       "    <tr>\n",
       "      <th>7</th>\n",
       "      <td>160</td>\n",
       "      <td>20</td>\n",
       "      <td>16</td>\n",
       "      <td>129</td>\n",
       "    </tr>\n",
       "    <tr>\n",
       "      <th>8</th>\n",
       "      <td>158</td>\n",
       "      <td>23</td>\n",
       "      <td>18</td>\n",
       "      <td>139</td>\n",
       "    </tr>\n",
       "    <tr>\n",
       "      <th>9</th>\n",
       "      <td>154</td>\n",
       "      <td>20</td>\n",
       "      <td>18</td>\n",
       "      <td>126</td>\n",
       "    </tr>\n",
       "    <tr>\n",
       "      <th>10</th>\n",
       "      <td>109</td>\n",
       "      <td>19</td>\n",
       "      <td>16</td>\n",
       "      <td>95</td>\n",
       "    </tr>\n",
       "    <tr>\n",
       "      <th>11</th>\n",
       "      <td>136</td>\n",
       "      <td>25</td>\n",
       "      <td>21</td>\n",
       "      <td>134</td>\n",
       "    </tr>\n",
       "    <tr>\n",
       "      <th>12</th>\n",
       "      <td>156</td>\n",
       "      <td>22</td>\n",
       "      <td>17</td>\n",
       "      <td>134</td>\n",
       "    </tr>\n",
       "    <tr>\n",
       "      <th>13</th>\n",
       "      <td>196</td>\n",
       "      <td>19</td>\n",
       "      <td>16</td>\n",
       "      <td>124</td>\n",
       "    </tr>\n",
       "    <tr>\n",
       "      <th>14</th>\n",
       "      <td>35</td>\n",
       "      <td>4</td>\n",
       "      <td>2</td>\n",
       "      <td>12</td>\n",
       "    </tr>\n",
       "    <tr>\n",
       "      <th>15</th>\n",
       "      <td>149</td>\n",
       "      <td>21</td>\n",
       "      <td>14</td>\n",
       "      <td>130</td>\n",
       "    </tr>\n",
       "    <tr>\n",
       "      <th>16</th>\n",
       "      <td>26</td>\n",
       "      <td>7</td>\n",
       "      <td>5</td>\n",
       "      <td>21</td>\n",
       "    </tr>\n",
       "    <tr>\n",
       "      <th>17</th>\n",
       "      <td>81</td>\n",
       "      <td>15</td>\n",
       "      <td>13</td>\n",
       "      <td>67</td>\n",
       "    </tr>\n",
       "    <tr>\n",
       "      <th>18</th>\n",
       "      <td>58</td>\n",
       "      <td>10</td>\n",
       "      <td>9</td>\n",
       "      <td>50</td>\n",
       "    </tr>\n",
       "    <tr>\n",
       "      <th>19</th>\n",
       "      <td>156</td>\n",
       "      <td>25</td>\n",
       "      <td>21</td>\n",
       "      <td>162</td>\n",
       "    </tr>\n",
       "  </tbody>\n",
       "</table>\n",
       "</div>"
      ],
      "text/plain": [
       "    length  length_2  length_3  length_4\n",
       "0      111        19        18       109\n",
       "1       29         8         8        38\n",
       "2      155        30        27       166\n",
       "3       49        11        11        53\n",
       "4       61         9         8        49\n",
       "5      148        25        21       115\n",
       "6       77        10         8        50\n",
       "7      160        20        16       129\n",
       "8      158        23        18       139\n",
       "9      154        20        18       126\n",
       "10     109        19        16        95\n",
       "11     136        25        21       134\n",
       "12     156        22        17       134\n",
       "13     196        19        16       124\n",
       "14      35         4         2        12\n",
       "15     149        21        14       130\n",
       "16      26         7         5        21\n",
       "17      81        15        13        67\n",
       "18      58        10         9        50\n",
       "19     156        25        21       162"
      ]
     },
     "execution_count": 44,
     "metadata": {},
     "output_type": "execute_result"
    }
   ],
   "source": [
    "emails['length_4'] = emails['sentence_stop_punc_stem_removed'].apply(len)\n",
    "\n",
    "emails[['length','length_2','length_3','length_4']].head(20)"
   ]
  },
  {
   "cell_type": "code",
   "execution_count": 45,
   "metadata": {},
   "outputs": [
    {
     "data": {
      "text/plain": [
       "array(['ham', 'spam'], dtype=object)"
      ]
     },
     "execution_count": 45,
     "metadata": {},
     "output_type": "execute_result"
    }
   ],
   "source": [
    "from sklearn import preprocessing\n",
    "from sklearn.preprocessing import LabelEncoder\n",
    "\n",
    "le = LabelEncoder()\n",
    "\n",
    "emails['v1_le'] = le.fit_transform(emails['v1'])\n",
    "\n",
    "v1_le = le.fit_transform(emails['v1'])\n",
    "\n",
    "le.classes_\n"
   ]
  },
  {
   "cell_type": "code",
   "execution_count": 46,
   "metadata": {},
   "outputs": [
    {
     "data": {
      "text/plain": [
       "array([0, 0, 1, ..., 0, 0, 0], dtype=int64)"
      ]
     },
     "execution_count": 46,
     "metadata": {},
     "output_type": "execute_result"
    }
   ],
   "source": [
    "v1_le"
   ]
  },
  {
   "cell_type": "code",
   "execution_count": 47,
   "metadata": {},
   "outputs": [],
   "source": [
    "\n",
    "from sklearn.feature_extraction.text import TfidfVectorizer\n",
    "\n",
    "\n",
    "#temp_new = emails.sentence.apply(LabelEncoder().fit_transform)\n",
    "tfdifv = TfidfVectorizer()\n",
    "\n",
    "temp_new_tfdif = tfdifv.fit_transform(emails['sentence'])\n"
   ]
  },
  {
   "cell_type": "code",
   "execution_count": 48,
   "metadata": {},
   "outputs": [
    {
     "data": {
      "text/plain": [
       "<5572x8672 sparse matrix of type '<class 'numpy.float64'>'\n",
       "\twith 73916 stored elements in Compressed Sparse Row format>"
      ]
     },
     "execution_count": 48,
     "metadata": {},
     "output_type": "execute_result"
    }
   ],
   "source": [
    "temp_new_tfdif"
   ]
  },
  {
   "cell_type": "code",
   "execution_count": 49,
   "metadata": {},
   "outputs": [
    {
     "data": {
      "text/html": [
       "<div>\n",
       "<style scoped>\n",
       "    .dataframe tbody tr th:only-of-type {\n",
       "        vertical-align: middle;\n",
       "    }\n",
       "\n",
       "    .dataframe tbody tr th {\n",
       "        vertical-align: top;\n",
       "    }\n",
       "\n",
       "    .dataframe thead th {\n",
       "        text-align: right;\n",
       "    }\n",
       "</style>\n",
       "<table border=\"1\" class=\"dataframe\">\n",
       "  <thead>\n",
       "    <tr style=\"text-align: right;\">\n",
       "      <th></th>\n",
       "      <th>v1</th>\n",
       "      <th>v2</th>\n",
       "      <th>sentence</th>\n",
       "      <th>tokens</th>\n",
       "      <th>length</th>\n",
       "      <th>sentence_stop_removed</th>\n",
       "      <th>length_2</th>\n",
       "      <th>sentence_stop_punc_removed</th>\n",
       "      <th>length_3</th>\n",
       "      <th>sentence_stop_punc_stem_removed</th>\n",
       "      <th>length_4</th>\n",
       "      <th>v1_le</th>\n",
       "      <th>tokens_2</th>\n",
       "    </tr>\n",
       "  </thead>\n",
       "  <tbody>\n",
       "    <tr>\n",
       "      <th>0</th>\n",
       "      <td>ham</td>\n",
       "      <td>go until jurong point, crazy.. available only ...</td>\n",
       "      <td>go until jurong point, crazy.. available only ...</td>\n",
       "      <td>[go, until, jurong, point, ,, crazy.., availab...</td>\n",
       "      <td>111</td>\n",
       "      <td>[go, jurong, point, ,, crazy.., available, bug...</td>\n",
       "      <td>19</td>\n",
       "      <td>go, jurong, point, crazy.., available, bugis, ...</td>\n",
       "      <td>18</td>\n",
       "      <td>go, jurong, point, crazy.., available, bugis, ...</td>\n",
       "      <td>109</td>\n",
       "      <td>0</td>\n",
       "      <td>(0, 3550)\\t0.1481298737377147\\n  (0, 8030)\\t...</td>\n",
       "    </tr>\n",
       "    <tr>\n",
       "      <th>1</th>\n",
       "      <td>ham</td>\n",
       "      <td>ok lar... joking wif u oni...</td>\n",
       "      <td>ok lar... joking wif u oni...</td>\n",
       "      <td>[ok, lar, ..., joking, wif, u, oni, ...]</td>\n",
       "      <td>29</td>\n",
       "      <td>[ok, lar, ..., joking, wif, u, oni, ...]</td>\n",
       "      <td>8</td>\n",
       "      <td>ok, lar, ..., joking, wif, u, oni, ...</td>\n",
       "      <td>8</td>\n",
       "      <td>ok, lar, ..., joking, wif, u, oni, ...</td>\n",
       "      <td>38</td>\n",
       "      <td>0</td>\n",
       "      <td>(0, 3550)\\t0.1481298737377147\\n  (0, 8030)\\t...</td>\n",
       "    </tr>\n",
       "    <tr>\n",
       "      <th>2</th>\n",
       "      <td>spam</td>\n",
       "      <td>free entry in 2 a wkly comp to win fa cup fina...</td>\n",
       "      <td>free entry in 2 a wkly comp to win fa cup fina...</td>\n",
       "      <td>[free, entry, in, 2, a, wkly, comp, to, win, f...</td>\n",
       "      <td>155</td>\n",
       "      <td>[free, entry, 2, wkly, comp, win, fa, cup, fin...</td>\n",
       "      <td>30</td>\n",
       "      <td>free, entry, 2, wkly, comp, win, fa, cup, fina...</td>\n",
       "      <td>27</td>\n",
       "      <td>free, entry, 2, wkly, comp, win, fa, cup, fina...</td>\n",
       "      <td>166</td>\n",
       "      <td>1</td>\n",
       "      <td>(0, 3550)\\t0.1481298737377147\\n  (0, 8030)\\t...</td>\n",
       "    </tr>\n",
       "    <tr>\n",
       "      <th>3</th>\n",
       "      <td>ham</td>\n",
       "      <td>u dun say so early hor... u c already then say...</td>\n",
       "      <td>u dun say so early hor... u c already then say...</td>\n",
       "      <td>[u, dun, say, so, early, hor, ..., u, c, alrea...</td>\n",
       "      <td>49</td>\n",
       "      <td>[u, dun, say, early, hor, ..., u, c, already, ...</td>\n",
       "      <td>11</td>\n",
       "      <td>u, dun, say, early, hor, ..., u, c, already, s...</td>\n",
       "      <td>11</td>\n",
       "      <td>u, dun, say, early, hor, ..., u, c, already, s...</td>\n",
       "      <td>53</td>\n",
       "      <td>0</td>\n",
       "      <td>(0, 3550)\\t0.1481298737377147\\n  (0, 8030)\\t...</td>\n",
       "    </tr>\n",
       "    <tr>\n",
       "      <th>4</th>\n",
       "      <td>ham</td>\n",
       "      <td>nah i don't think he goes to usf, he lives aro...</td>\n",
       "      <td>nah i don't think he goes to usf, he lives aro...</td>\n",
       "      <td>[nah, i, do, n't, think, he, goes, to, usf, ,,...</td>\n",
       "      <td>61</td>\n",
       "      <td>[nah, n't, think, goes, usf, ,, lives, around,...</td>\n",
       "      <td>9</td>\n",
       "      <td>nah, n't, think, goes, usf, lives, around, though</td>\n",
       "      <td>8</td>\n",
       "      <td>nah, n't, think, goes, usf, lives, around, though</td>\n",
       "      <td>49</td>\n",
       "      <td>0</td>\n",
       "      <td>(0, 3550)\\t0.1481298737377147\\n  (0, 8030)\\t...</td>\n",
       "    </tr>\n",
       "  </tbody>\n",
       "</table>\n",
       "</div>"
      ],
      "text/plain": [
       "     v1                                                 v2  \\\n",
       "0   ham  go until jurong point, crazy.. available only ...   \n",
       "1   ham                      ok lar... joking wif u oni...   \n",
       "2  spam  free entry in 2 a wkly comp to win fa cup fina...   \n",
       "3   ham  u dun say so early hor... u c already then say...   \n",
       "4   ham  nah i don't think he goes to usf, he lives aro...   \n",
       "\n",
       "                                            sentence  \\\n",
       "0  go until jurong point, crazy.. available only ...   \n",
       "1                      ok lar... joking wif u oni...   \n",
       "2  free entry in 2 a wkly comp to win fa cup fina...   \n",
       "3  u dun say so early hor... u c already then say...   \n",
       "4  nah i don't think he goes to usf, he lives aro...   \n",
       "\n",
       "                                              tokens  length  \\\n",
       "0  [go, until, jurong, point, ,, crazy.., availab...     111   \n",
       "1           [ok, lar, ..., joking, wif, u, oni, ...]      29   \n",
       "2  [free, entry, in, 2, a, wkly, comp, to, win, f...     155   \n",
       "3  [u, dun, say, so, early, hor, ..., u, c, alrea...      49   \n",
       "4  [nah, i, do, n't, think, he, goes, to, usf, ,,...      61   \n",
       "\n",
       "                               sentence_stop_removed  length_2  \\\n",
       "0  [go, jurong, point, ,, crazy.., available, bug...        19   \n",
       "1           [ok, lar, ..., joking, wif, u, oni, ...]         8   \n",
       "2  [free, entry, 2, wkly, comp, win, fa, cup, fin...        30   \n",
       "3  [u, dun, say, early, hor, ..., u, c, already, ...        11   \n",
       "4  [nah, n't, think, goes, usf, ,, lives, around,...         9   \n",
       "\n",
       "                          sentence_stop_punc_removed  length_3  \\\n",
       "0  go, jurong, point, crazy.., available, bugis, ...        18   \n",
       "1             ok, lar, ..., joking, wif, u, oni, ...         8   \n",
       "2  free, entry, 2, wkly, comp, win, fa, cup, fina...        27   \n",
       "3  u, dun, say, early, hor, ..., u, c, already, s...        11   \n",
       "4  nah, n't, think, goes, usf, lives, around, though         8   \n",
       "\n",
       "                     sentence_stop_punc_stem_removed  length_4  v1_le  \\\n",
       "0  go, jurong, point, crazy.., available, bugis, ...       109      0   \n",
       "1             ok, lar, ..., joking, wif, u, oni, ...        38      0   \n",
       "2  free, entry, 2, wkly, comp, win, fa, cup, fina...       166      1   \n",
       "3  u, dun, say, early, hor, ..., u, c, already, s...        53      0   \n",
       "4  nah, n't, think, goes, usf, lives, around, though        49      0   \n",
       "\n",
       "                                            tokens_2  \n",
       "0    (0, 3550)\\t0.1481298737377147\\n  (0, 8030)\\t...  \n",
       "1    (0, 3550)\\t0.1481298737377147\\n  (0, 8030)\\t...  \n",
       "2    (0, 3550)\\t0.1481298737377147\\n  (0, 8030)\\t...  \n",
       "3    (0, 3550)\\t0.1481298737377147\\n  (0, 8030)\\t...  \n",
       "4    (0, 3550)\\t0.1481298737377147\\n  (0, 8030)\\t...  "
      ]
     },
     "execution_count": 49,
     "metadata": {},
     "output_type": "execute_result"
    }
   ],
   "source": [
    "emails['tokens_2'] = temp_new_tfdif\n",
    "emails.head()"
   ]
  },
  {
   "cell_type": "code",
   "execution_count": 50,
   "metadata": {},
   "outputs": [],
   "source": [
    "X_train, X_test, Y_train, Y_test = train_test_split(emails['sentence_stop_punc_stem_removed'],emails['v1_le'])"
   ]
  },
  {
   "cell_type": "code",
   "execution_count": 51,
   "metadata": {},
   "outputs": [
    {
     "data": {
      "text/plain": [
       "((4179,), (4179,))"
      ]
     },
     "execution_count": 51,
     "metadata": {},
     "output_type": "execute_result"
    }
   ],
   "source": [
    "X_train.shape , Y_train.shape"
   ]
  },
  {
   "cell_type": "code",
   "execution_count": 133,
   "metadata": {},
   "outputs": [],
   "source": [
    "from sklearn.pipeline import Pipeline\n",
    "\n",
    "pipeline = Pipeline([\n",
    "       ('tfidf',TfidfVectorizer()), # \n",
    "    ('classifier',MultinomialNB()) # train on TF-IDF vectors with Naive Bayes classifier\n",
    "])"
   ]
  },
  {
   "cell_type": "code",
   "execution_count": 134,
   "metadata": {
    "scrolled": true
   },
   "outputs": [
    {
     "data": {
      "text/plain": [
       "Pipeline(memory=None,\n",
       "     steps=[('tfidf', TfidfVectorizer(analyzer='word', binary=False, decode_error='strict',\n",
       "        dtype=<class 'numpy.int64'>, encoding='utf-8', input='content',\n",
       "        lowercase=True, max_df=1.0, max_features=None, min_df=1,\n",
       "        ngram_range=(1, 1), norm='l2', preprocessor=None, smooth_idf=True,\n",
       " ...      vocabulary=None)), ('classifier', MultinomialNB(alpha=1.0, class_prior=None, fit_prior=True))])"
      ]
     },
     "execution_count": 134,
     "metadata": {},
     "output_type": "execute_result"
    }
   ],
   "source": [
    "pipeline.fit(X_train,Y_train)"
   ]
  },
  {
   "cell_type": "code",
   "execution_count": 135,
   "metadata": {},
   "outputs": [],
   "source": [
    "actuals = Y_test\n",
    "predictions = pipeline.predict(X_test)"
   ]
  },
  {
   "cell_type": "code",
   "execution_count": 175,
   "metadata": {},
   "outputs": [
    {
     "data": {
      "text/plain": [
       "2914    0\n",
       "2779    0\n",
       "3134    0\n",
       "1659    0\n",
       "5380    0\n",
       "67      1\n",
       "1589    0\n",
       "5466    1\n",
       "328     0\n",
       "2765    0\n",
       "1414    0\n",
       "4034    1\n",
       "711     0\n",
       "173     0\n",
       "434     0\n",
       "2439    0\n",
       "5007    0\n",
       "1613    0\n",
       "405     0\n",
       "2937    0\n",
       "2358    0\n",
       "4574    0\n",
       "5291    0\n",
       "4954    0\n",
       "2661    0\n",
       "1730    0\n",
       "1158    0\n",
       "426     0\n",
       "3672    0\n",
       "1958    0\n",
       "       ..\n",
       "4757    1\n",
       "4734    0\n",
       "5337    0\n",
       "98      0\n",
       "4223    0\n",
       "184     0\n",
       "4398    0\n",
       "5217    0\n",
       "671     1\n",
       "4193    0\n",
       "1427    0\n",
       "2843    0\n",
       "2981    0\n",
       "2907    0\n",
       "1933    0\n",
       "995     0\n",
       "5345    0\n",
       "3179    0\n",
       "4853    0\n",
       "757     0\n",
       "461     0\n",
       "1445    0\n",
       "1409    0\n",
       "1042    0\n",
       "1770    0\n",
       "4326    0\n",
       "1692    0\n",
       "5258    0\n",
       "3492    0\n",
       "4190    0\n",
       "Name: v1_le, Length: 1393, dtype: int64"
      ]
     },
     "execution_count": 175,
     "metadata": {},
     "output_type": "execute_result"
    }
   ],
   "source": [
    "actuals"
   ]
  },
  {
   "cell_type": "code",
   "execution_count": 174,
   "metadata": {},
   "outputs": [
    {
     "data": {
      "text/plain": [
       "0       0\n",
       "1       0\n",
       "2       0\n",
       "3       0\n",
       "4       0\n",
       "5       1\n",
       "6       0\n",
       "7       0\n",
       "8       0\n",
       "9       0\n",
       "10      0\n",
       "11      1\n",
       "12      0\n",
       "13      0\n",
       "14      0\n",
       "15      0\n",
       "16      0\n",
       "17      0\n",
       "18      0\n",
       "19      0\n",
       "20      0\n",
       "21      0\n",
       "22      0\n",
       "23      0\n",
       "24      0\n",
       "25      0\n",
       "26      0\n",
       "27      0\n",
       "28      0\n",
       "29      0\n",
       "       ..\n",
       "1363    1\n",
       "1364    0\n",
       "1365    0\n",
       "1366    0\n",
       "1367    0\n",
       "1368    0\n",
       "1369    0\n",
       "1370    0\n",
       "1371    0\n",
       "1372    0\n",
       "1373    0\n",
       "1374    0\n",
       "1375    0\n",
       "1376    0\n",
       "1377    0\n",
       "1378    0\n",
       "1379    0\n",
       "1380    0\n",
       "1381    0\n",
       "1382    0\n",
       "1383    0\n",
       "1384    0\n",
       "1385    0\n",
       "1386    0\n",
       "1387    0\n",
       "1388    0\n",
       "1389    0\n",
       "1390    0\n",
       "1391    0\n",
       "1392    0\n",
       "Length: 1393, dtype: int64"
      ]
     },
     "execution_count": 174,
     "metadata": {},
     "output_type": "execute_result"
    }
   ],
   "source": [
    "import numpy as np\n",
    "array_actuals = np.array(Y_test)\n",
    "array_actuals\n",
    "Series(predictions)"
   ]
  },
  {
   "cell_type": "code",
   "execution_count": 151,
   "metadata": {},
   "outputs": [
    {
     "data": {
      "text/plain": [
       "array([[1208,    2],\n",
       "       [  47,  136]], dtype=int64)"
      ]
     },
     "execution_count": 151,
     "metadata": {},
     "output_type": "execute_result"
    }
   ],
   "source": [
    "confusion_matrix(actuals,predictions)"
   ]
  },
  {
   "cell_type": "code",
   "execution_count": 137,
   "metadata": {},
   "outputs": [
    {
     "data": {
      "text/plain": [
       "0.964824120603015"
      ]
     },
     "execution_count": 137,
     "metadata": {},
     "output_type": "execute_result"
    }
   ],
   "source": [
    "accuracy_score(actuals,predictions)"
   ]
  },
  {
   "cell_type": "code",
   "execution_count": 165,
   "metadata": {},
   "outputs": [
    {
     "data": {
      "text/plain": [
       "0.9855072463768116"
      ]
     },
     "execution_count": 165,
     "metadata": {},
     "output_type": "execute_result"
    }
   ],
   "source": [
    "precision_score(actuals,predictions)"
   ]
  },
  {
   "cell_type": "code",
   "execution_count": 166,
   "metadata": {},
   "outputs": [
    {
     "data": {
      "text/plain": [
       "Text(0.5,1,'ROC curve')"
      ]
     },
     "execution_count": 166,
     "metadata": {},
     "output_type": "execute_result"
    },
    {
     "data": {
      "image/png": "[encoded data removed]",
      "text/plain": [
       "<Figure size 432x288 with 1 Axes>"
      ]
     },
     "metadata": {},
     "output_type": "display_data"
    }
   ],
   "source": [
    "# ROC Curve:\n",
    "\n",
    "fpr, tpr, thresholds = metrics.roc_curve(actuals,predictions)\n",
    "metrics.auc(fpr, tpr)\n",
    "\n",
    "plt.plot([0, 1], [0, 1])\n",
    "plt.plot(fpr, tpr)\n",
    "plt.xlabel('False positive rate')\n",
    "plt.ylabel('True positive rate')\n",
    "plt.title('ROC curve')\n",
    "\n",
    "#there is a library skplot just to have other graphs like Lift, precision/recall curve etc"
   ]
  },
  {
   "cell_type": "code",
   "execution_count": 193,
   "metadata": {},
   "outputs": [
    {
     "name": "stderr",
     "output_type": "stream",
     "text": [
      "C:\\Anaconda3\\lib\\site-packages\\matplotlib\\cbook\\deprecation.py:107: MatplotlibDeprecationWarning: Passing one of 'on', 'true', 'off', 'false' as a boolean is deprecated; use an actual boolean (True/False) instead.\n",
      "  warnings.warn(message, mplDeprecation, stacklevel=1)\n",
      "C:\\Anaconda3\\lib\\site-packages\\matplotlib\\cbook\\deprecation.py:107: MatplotlibDeprecationWarning: Passing one of 'on', 'true', 'off', 'false' as a boolean is deprecated; use an actual boolean (True/False) instead.\n",
      "  warnings.warn(message, mplDeprecation, stacklevel=1)\n"
     ]
    },
    {
     "data": {
      "text/plain": [
       "<matplotlib.axes._subplots.AxesSubplot at 0x16600986438>"
      ]
     },
     "execution_count": 193,
     "metadata": {},
     "output_type": "execute_result"
    },
    {
     "data": {
      "image/png": "[encoded data removed]",
      "text/plain": [
       "<Figure size 432x288 with 1 Axes>"
      ]
     },
     "metadata": {},
     "output_type": "display_data"
    },
    {
     "data": {
      "image/png": "[encoded data removed]",
      "text/plain": [
       "<Figure size 432x288 with 1 Axes>"
      ]
     },
     "metadata": {},
     "output_type": "display_data"
    },
    {
     "data": {
      "image/png": "[encoded data removed]",
      "text/plain": [
       "<Figure size 432x288 with 1 Axes>"
      ]
     },
     "metadata": {},
     "output_type": "display_data"
    },
    {
     "data": {
      "image/png": "[encoded data removed]",
      "text/plain": [
       "<Figure size 432x288 with 1 Axes>"
      ]
     },
     "metadata": {},
     "output_type": "display_data"
    },
    {
     "data": {
      "image/png": "[encoded data removed]",
      "text/plain": [
       "<Figure size 432x288 with 1 Axes>"
      ]
     },
     "metadata": {},
     "output_type": "display_data"
    },
    {
     "data": {
      "image/png": "[encoded data removed]",
      "text/plain": [
       "<Figure size 432x288 with 2 Axes>"
      ]
     },
     "metadata": {},
     "output_type": "display_data"
    }
   ],
   "source": [
    "############################################ scikit-plot library ################################################\n",
    "# Using scikit-plot library: which is like a supplement library to scikit-learn for plotting curves of scikit-learn model output:\n",
    "\n",
    "actuals\n",
    "\n",
    "from scikitplot import metrics as spmetrics\n",
    "\n",
    "percentages, gains = spmetrics.cumulative_gain_curve(actuals, predictions)\n",
    "\n",
    "plt.plot(percentages, gains)\n",
    "\n",
    "#spmetrics.plot_lift_curve((actuals),(predictions))\n",
    "\n",
    "# Use pipeline.predict_proba(X_test) = Y_Probas\n",
    "spmetrics.plot_roc((actuals),(pipeline.predict_proba(X_test)))\n",
    "\n",
    "spmetrics.plot_lift_curve((actuals),(pipeline.predict_proba(X_test)))\n",
    "spmetrics.plot_precision_recall((actuals),(pipeline.predict_proba(X_test)))\n",
    "spmetrics.plot_cumulative_gain((actuals),(pipeline.predict_proba(X_test)))\n",
    "spmetrics.plot_confusion_matrix((actuals),predictions)\n"
   ]
  },
  {
   "cell_type": "code",
   "execution_count": 141,
   "metadata": {},
   "outputs": [],
   "source": [
    "# We are done with machine learning model, next we will lokk at building a word cloud for Spam message and \n",
    "#  also do some frequency plot for words which show up the maximum in plots:"
   ]
  },
  {
   "cell_type": "code",
   "execution_count": 142,
   "metadata": {},
   "outputs": [
    {
     "data": {
      "text/html": [
       "<div>\n",
       "<style scoped>\n",
       "    .dataframe tbody tr th:only-of-type {\n",
       "        vertical-align: middle;\n",
       "    }\n",
       "\n",
       "    .dataframe tbody tr th {\n",
       "        vertical-align: top;\n",
       "    }\n",
       "\n",
       "    .dataframe thead th {\n",
       "        text-align: right;\n",
       "    }\n",
       "</style>\n",
       "<table border=\"1\" class=\"dataframe\">\n",
       "  <thead>\n",
       "    <tr style=\"text-align: right;\">\n",
       "      <th></th>\n",
       "      <th>v1</th>\n",
       "      <th>v2</th>\n",
       "      <th>sentence</th>\n",
       "      <th>tokens</th>\n",
       "      <th>length</th>\n",
       "      <th>sentence_stop_removed</th>\n",
       "      <th>length_2</th>\n",
       "      <th>sentence_stop_punc_removed</th>\n",
       "      <th>length_3</th>\n",
       "      <th>sentence_stop_punc_stem_removed</th>\n",
       "      <th>length_4</th>\n",
       "      <th>v1_le</th>\n",
       "      <th>tokens_2</th>\n",
       "    </tr>\n",
       "  </thead>\n",
       "  <tbody>\n",
       "    <tr>\n",
       "      <th>0</th>\n",
       "      <td>ham</td>\n",
       "      <td>go until jurong point, crazy.. available only ...</td>\n",
       "      <td>go until jurong point, crazy.. available only ...</td>\n",
       "      <td>[go, until, jurong, point, ,, crazy.., availab...</td>\n",
       "      <td>111</td>\n",
       "      <td>[go, jurong, point, ,, crazy.., available, bug...</td>\n",
       "      <td>19</td>\n",
       "      <td>go, jurong, point, crazy.., available, bugis, ...</td>\n",
       "      <td>18</td>\n",
       "      <td>go, jurong, point, crazy.., available, bugis, ...</td>\n",
       "      <td>109</td>\n",
       "      <td>0</td>\n",
       "      <td>(0, 3550)\\t0.1481298737377147\\n  (0, 8030)\\t...</td>\n",
       "    </tr>\n",
       "  </tbody>\n",
       "</table>\n",
       "</div>"
      ],
      "text/plain": [
       "    v1                                                 v2  \\\n",
       "0  ham  go until jurong point, crazy.. available only ...   \n",
       "\n",
       "                                            sentence  \\\n",
       "0  go until jurong point, crazy.. available only ...   \n",
       "\n",
       "                                              tokens  length  \\\n",
       "0  [go, until, jurong, point, ,, crazy.., availab...     111   \n",
       "\n",
       "                               sentence_stop_removed  length_2  \\\n",
       "0  [go, jurong, point, ,, crazy.., available, bug...        19   \n",
       "\n",
       "                          sentence_stop_punc_removed  length_3  \\\n",
       "0  go, jurong, point, crazy.., available, bugis, ...        18   \n",
       "\n",
       "                     sentence_stop_punc_stem_removed  length_4  v1_le  \\\n",
       "0  go, jurong, point, crazy.., available, bugis, ...       109      0   \n",
       "\n",
       "                                            tokens_2  \n",
       "0    (0, 3550)\\t0.1481298737377147\\n  (0, 8030)\\t...  "
      ]
     },
     "execution_count": 142,
     "metadata": {},
     "output_type": "execute_result"
    }
   ],
   "source": [
    "emails.head(1)"
   ]
  },
  {
   "cell_type": "code",
   "execution_count": 143,
   "metadata": {},
   "outputs": [],
   "source": [
    "from nltk.probability import FreqDist\n",
    "\n",
    "# Importing Regex Tokenizer for just tokenising words and ignoring , and .\n",
    "from nltk.tokenize import RegexpTokenizer\n",
    "regex_tokenizer = RegexpTokenizer(r'\\w+')\n",
    "\n",
    "final_words = emails['sentence_stop_punc_stem_removed'][emails['v1_le'] == 1].apply(regex_tokenizer.tokenize)\n",
    "t_final_words = tuple(final_words)\n",
    "\n",
    "# Need to unpack Tuple for it to work with FreqDist:\n",
    "l_final_words = []\n",
    "for list in t_final_words:\n",
    "    for word in list:\n",
    "            l_final_words.append(word)\n",
    "\n",
    "l_final_words\n",
    "    \n",
    "    \n",
    "fdist_spam = FreqDist(l_final_words)"
   ]
  },
  {
   "cell_type": "code",
   "execution_count": 144,
   "metadata": {},
   "outputs": [
    {
     "data": {
      "text/plain": [
       "dict_items([('free', 222), ('entry', 26), ('2', 206), ('wkly', 14), ('comp', 10), ('win', 64), ('fa', 4), ('cup', 5), ('final', 16), ('tkts', 4), ('21st', 2), ('may', 7), ('2005', 3), ('text', 125), ('87121', 4), ('receive', 33), ('question', 7), ('std', 11), ('txt', 165), ('rate', 18), ('c', 59), ('s', 83), ('apply', 20), ('08452810075over18', 2), ('freemsg', 14), ('hey', 5), ('darling', 2), ('3', 45), ('week', 60), ('word', 25), ('back', 23), ('d', 5), ('like', 13), ('fun', 9), ('still', 7), ('tb', 1), ('ok', 5), ('xxx', 11), ('chgs', 1), ('send', 70), ('å', 299), ('1', 111), ('50', 57), ('rcv', 2), ('winner', 15), ('valued', 11), ('network', 25), ('customer', 47), ('selected', 25), ('receivea', 2), ('900', 7), ('prize', 87), ('reward', 11), ('claim', 113), ('call', 349), ('09061701461', 2), ('code', 30), ('kl341', 2), ('valid', 24), ('12', 6), ('hour', 2), ('mobile', 126), ('11', 12), ('months', 3), ('u', 174), ('r', 44), ('entitled', 8), ('update', 19), ('latest', 36), ('colour', 19), ('mobiles', 12), ('camera', 35), ('co', 54), ('08002986030', 2), ('six', 3), ('chances', 2), ('cash', 76), ('100', 40), ('20', 7), ('000', 29), ('pounds', 17), ('csh11', 2), ('87575', 4), ('cost', 24), ('150p', 71), ('day', 24), ('6days', 2), ('16', 51), ('tsandcs', 2), ('reply', 103), ('hl', 6), ('4', 137), ('info', 14), ('urgent', 63), ('membership', 2), ('jackpot', 2), ('81010', 2), ('www', 98), ('dbuk', 2), ('net', 15), ('lccltd', 2), ('pobox', 16), ('4403ldnw1a7rw18', 2), ('xxxmobilemovieclub', 2), ('use', 9), ('credit', 9), ('click', 5), ('wap', 11), ('link', 6), ('next', 16), ('message', 33), ('http', 21), ('com', 54), ('n', 27), ('qjkgighjjgcbl', 1), ('england', 9), ('v', 5), ('macedonia', 1), ('dont', 12), ('miss', 7), ('goals', 2), ('team', 4), ('news', 10), ('ur', 144), ('national', 22), ('87077', 8), ('eg', 11), ('try', 6), ('wales', 1), ('scotland', 1), ('4txt', 2), ('ì¼1', 1), ('poboxox36504w45wq', 1), ('thanks', 15), ('subscription', 5), ('ringtone', 31), ('uk', 74), ('charged', 11), ('5', 15), ('month', 8), ('please', 55), ('confirm', 1), ('replying', 6), ('yes', 21), ('charg', 2), ('07732584351', 1), ('rodger', 1), ('burns', 1), ('msg', 54), ('tried', 17), ('sms', 33), ('nokia', 67), ('camcorder', 15), ('08000930705', 16), ('delivery', 18), ('tomorrow', 10), ('ac', 12), ('sptv', 2), ('new', 69), ('jersey', 1), ('devils', 1), ('detroit', 1), ('red', 3), ('wings', 1), ('play', 18), ('ice', 1), ('hockey', 1), ('correct', 4), ('incorrect', 1), ('end', 13), ('congrats', 10), ('year', 9), ('special', 19), ('cinema', 3), ('pass', 5), ('09061209465', 3), ('suprman', 3), ('matrix3', 3), ('starwars3', 3), ('etc', 7), ('bx420', 7), ('ip4', 8), ('5we', 7), ('150pm', 6), ('pleased', 3), ('advise', 3), ('following', 5), ('recent', 3), ('review', 4), ('mob', 25), ('awarded', 38), ('1500', 3), ('bonus', 21), ('09066364589', 2), ('complimentary', 12), ('trip', 4), ('eurodisinc', 2), ('trav', 2), ('aco', 2), ('entry41', 2), ('1000', 41), ('dis', 2), ('18', 51), ('6', 9), ('morefrmmob', 2), ('shracomorsglsuplt', 2), ('10', 27), ('ls1', 2), ('3aj', 2), ('hear', 3), ('divorce', 1), ('barbie', 1), ('comes', 3), ('ken', 1), ('stuff', 1), ('service', 52), ('representative', 9), ('0800', 13), ('169', 2), ('6031', 2), ('10am', 7), ('9pm', 2), ('guaranteed', 50), ('5000', 25), ('pr', 6), ('waiting', 11), ('collected', 2), ('simply', 3), ('password', 3), ('mix', 3), ('85069', 2), ('verify', 3), ('get', 86), ('usher', 2), ('britney', 2), ('fml', 2), ('gent', 2), ('trying', 15), ('contact', 56), ('last', 13), ('weekends', 5), ('draw', 39), ('shows', 31), ('09064012160', 2), ('k52', 3), ('12hrs', 8), ('150ppm', 34), ('specially', 9), ('holiday', 32), ('flights', 6), ('inc', 8), ('speak', 10), ('live', 29), ('operator', 13), ('0871277810910p', 1), ('min', 44), ('private', 18), ('2004', 8), ('account', 19), ('statement', 16), ('07742676969', 2), ('786', 4), ('unredeemed', 4), ('points', 16), ('08719180248', 2), ('identifier', 16), ('45239', 3), ('expir', 2), ('2000', 24), ('caller', 12), ('9', 1), ('03', 13), ('landline', 31), ('09064019788', 1), ('box42wr29c', 1), ('todays', 17), ('voda', 5), ('numbers', 9), ('ending', 8), ('7548', 1), ('350', 15), ('award', 28), ('match', 7), ('08712300220', 6), ('quoting', 5), ('4041', 1), ('standard', 6), ('rates', 9), ('app', 4), ('sunshine', 7), ('quiz', 15), ('q', 4), ('top', 16), ('sony', 8), ('dvd', 7), ('player', 12), ('know', 25), ('country', 4), ('algarve', 2), ('ansr', 4), ('82277', 7), ('sp', 8), ('tyron', 4), ('want', 30), ('laid', 4), ('tonight', 2), ('real', 13), ('dogging', 11), ('locations', 5), ('sent', 10), ('direct', 10), ('join', 16), ('largest', 4), ('bt', 15), ('txting', 10), ('gravel', 1), ('69888', 2), ('nt', 1), ('ec2a', 5), ('31p', 2), ('ll', 3), ('msgs', 8), ('chat', 45), ('svc', 1), ('hardcore', 2), ('services', 17), ('go', 31), ('69988', 1), ('nothing', 4), ('must', 5), ('age', 8), ('yr', 13), ('tri', 1), ('t', 24), ('replied', 1), ('m', 22), ('randy', 2), ('sexy', 14), ('female', 1), ('local', 5), ('luv', 5), ('netcollex', 4), ('ltd', 16), ('08700621170150p', 2), ('per', 46), ('stop', 121), ('annoncement', 1), ('years', 4), ('07046744435', 1), ('arrange', 2), ('deliveri', 3), ('0871277810810', 2), ('pls', 11), ('bootydelious', 2), ('32', 1), ('f', 11), ('inviting', 6), ('friend', 11), ('434', 5), ('no', 9), ('see', 19), ('frnd', 6), ('62468', 6), ('bangbabes', 1), ('order', 14), ('way', 1), ('download', 3), ('content', 13), ('goto', 6), ('bangb', 1), ('tv', 9), ('internet', 1), ('menu', 1), ('09061701939', 1), ('s89', 1), ('12hr', 9), ('freephone', 8), ('0808', 4), ('145', 4), ('4742', 4), ('9am', 4), ('11pm', 4), ('unique', 2), ('enough', 2), ('find', 31), ('30th', 1), ('august', 2), ('areyouunique', 1), ('500', 44), ('89545', 3), ('collect', 23), ('today', 21), ('tc', 10), ('biz', 7), ('2optout', 5), ('087187262701', 3), ('50gbp', 3), ('mtmsg18', 3), ('meet', 8), ('dream', 3), ('partner', 5), ('soon', 3), ('career', 1), ('flyng', 1), ('start', 7), ('horo', 2), ('followed', 3), ('star', 2), ('sign', 2), ('e', 12), ('g', 9), ('ari', 1), ('someone', 14), ('date', 9), ('even', 6), ('flirt', 4), ('10p', 24), ('name', 13), ('sam', 3), ('25', 5), ('recd', 4), ('thirtyeight', 1), ('p', 6), ('447801259231', 2), ('secret', 10), ('admirer', 10), ('looking', 9), ('make', 13), ('reveal', 12), ('thinks', 10), ('09058094597', 2), ('congratulations', 14), ('cd', 8), ('vouchers', 21), ('125gift', 3), ('music', 21), ('87066', 13), ('tncs', 6), ('ldew', 9), ('com1win150ppmx3age16', 4), ('offer', 26), ('video', 32), ('handset', 6), ('750', 19), ('anytime', 12), ('networks', 3), ('mins', 35), ('unlimited', 10), ('really', 1), ('horny', 7), ('naked', 1), ('hot', 15), ('69698', 2), ('unsubscribe', 18), ('changed', 1), ('credits', 9), ('club4mobiles', 1), ('choose', 10), ('club', 19), ('87070', 1), ('wk', 32), ('club4', 1), ('po', 29), ('box1146', 1), ('mk45', 1), ('2wt', 1), ('singles', 5), ('chart', 3), ('quality', 2), ('hmv', 10), ('genuine', 3), ('answer', 8), ('easy', 13), ('questions', 6), ('86688', 19), ('100percent', 3), ('phone', 45), ('upgrade', 3), ('pay', 1), ('sim', 2), ('card', 4), ('loyalty', 7), ('0845', 3), ('021', 2), ('3680', 2), ('ends', 4), ('28thfeb', 1), ('appli', 10), ('blind', 2), ('4u', 4), ('rodds1', 1), ('21', 4), ('aberdeen', 1), ('united', 1), ('kingdom', 1), ('check', 4), ('img', 1), ('w', 4), ('icmb3cktz8r7', 1), ('dates', 2), ('hid', 1), ('themob', 5), ('newest', 3), ('selection', 5), ('games', 19), ('tones', 25), ('gossip', 1), ('babes', 2), ('sport', 5), ('keep', 6), ('fit', 1), ('funky', 1), ('82468', 2), ('think', 4), ('smart', 2), ('200', 12), ('weekly', 24), ('85222', 1), ('cs', 41), ('winnersclub', 1), ('box', 30), ('84', 1), ('m26', 3), ('3uz', 3), ('gbp1', 1), ('december', 5), ('11mths', 9), ('08002986906', 4), ('germany', 3), ('pence', 2), ('minute', 7), ('fixed', 2), ('line', 35), ('via', 3), ('access', 7), ('number', 30), ('0844', 2), ('861', 2), ('85', 4), ('prepayment', 2), ('valentines', 2), ('take', 14), ('lifetime', 2), ('83600', 4), ('rcvd', 8), ('custcare', 10), ('08718720201', 7), ('fancy', 9), ('shag', 1), ('do', 2), ('interested', 1), ('sextextuk', 1), ('xxuk', 1), ('suzy', 1), ('69876', 1), ('txts', 11), ('website', 1), ('x', 11), ('balance', 9), ('currently', 10), ('maximize', 7), ('in', 7), ('cc', 6), ('08708800282', 1), ('hg', 11), ('suite342', 15), ('2lands', 15), ('row', 16), ('w1j6hl', 11), ('update_now', 2), ('xmas', 15), ('motorola', 11), ('sonyericsson', 5), ('bluetooth', 9), ('double', 17), ('orange', 27), ('mobileupd8', 16), ('08000839402', 15), ('call2optout', 12), ('f4q', 1), ('discount', 9), ('rp176781', 1), ('messages', 13), ('regalportfolio', 1), ('08717205546', 1), ('reference', 4), ('t91', 1), ('gbp', 3), ('calling', 6), ('09057039994', 1), ('6months', 2), ('available', 2), ('phones', 12), ('n9dx', 2), ('4mths', 3), ('half', 13), ('price', 17), ('rental', 12), ('mobilesdirect', 3), ('08000938767', 3), ('or2stoptxt', 3), ('first', 8), ('87131', 4), ('poly', 19), ('true', 4), ('tone', 58), ('help', 22), ('2814032', 1), ('1st', 26), ('3xå', 1), ('150pw', 1), ('eå', 1), ('nd', 1), ('dating', 17), ('cal', 7), ('l', 1), ('09064012103', 1), ('box334sk38ch', 2), ('250', 18), ('competition', 3), ('80086', 2), ('txttowin', 2), ('logo', 7), ('lover', 2), ('names', 2), ('joined', 2), ('heart', 3), ('love', 10), ('name1', 2), ('name2', 2), ('mobno', 2), ('adam', 2), ('eve', 5), ('07123456789', 2), ('yahoo', 2), ('pobox36504w45wq', 5), ('txtno', 2), ('ads', 2), ('contacted', 5), ('entered', 6), ('09111032124', 1), ('pobox12n146tf150p', 1), ('09058094455', 1), ('land', 18), ('3030', 8), ('3650', 2), ('09066382422', 2), ('calls', 12), ('ave', 3), ('3mins', 3), ('vary', 3), ('close', 4), ('300603', 2), ('post', 4), ('bcm4284', 2), ('ldn', 10), ('wc1n3xx', 4), ('loan', 4), ('purpose', 4), ('75', 3), ('homeowners', 3), ('tenants', 4), ('welcome', 10), ('previously', 3), ('refused', 4), ('1956669', 3), ('upgrdcentre', 1), ('0207', 3), ('153', 2), ('9153', 1), ('26th', 1), ('july', 2), ('opt', 17), ('out', 4), ('avail', 1), ('okmail', 1), ('dear', 16), ('dave', 2), ('notice', 3), ('tenerife', 7), ('09061743806', 2), ('tcs', 4), ('sae', 21), ('box326', 2), ('cw25wx', 4), ('moan', 1), ('69888nyt', 1), ('activate', 5), ('terms', 8), ('conditions', 4), ('visit', 7), ('07781482378', 2), ('123', 3), ('1450', 3), ('09050002311', 2), ('b4280703', 2), ('08718727868', 2), ('40gb', 6), ('ipod', 12), ('mp3', 5), ('83355', 5), ('ibhltd', 3), ('ldnw15h', 3), ('mtmsgrcvd18', 4), ('boltblue', 1), ('mono', 3), ('poly3', 1), ('cha', 2), ('slide', 1), ('yeah', 1), ('slow', 1), ('jamz', 1), ('toxic', 1), ('8', 1), ('come', 2), ('topped', 1), ('bubbletext', 1), ('renewal', 1), ('pin', 1), ('tgxxrz', 1), ('02', 8), ('09', 3), ('2nd', 20), ('attempt', 22), ('0871', 3), ('872', 2), ('9755', 1), ('box95qu', 3), ('150', 18), ('worth', 13), ('85023', 7), ('savamob', 14), ('member', 6), ('offers', 12), ('08717898035', 3), ('00', 10), ('sub', 8), ('unsub', 7), ('recieve', 1), ('within', 7), ('24hrs', 2), ('channel', 1), ('teletext', 1), ('pg', 1), ('2003', 13), ('07815296484', 1), ('800', 22), ('un', 12), ('redeemed', 12), ('i', 12), ('08718738001', 2), ('41782', 1), ('expires', 15), ('04', 12), ('applausestore', 1), ('monthlysubscription', 1), ('50p', 8), ('max6', 1), ('csc', 1), ('web', 2), ('age16', 9), ('2stop', 2), ('call09050000327', 2), ('us', 9), ('ring', 4), ('claims', 2), ('09050005321', 1), ('textand', 1), ('08002988890', 1), ('chance', 27), ('shopping', 8), ('spree', 7), ('shop', 8), ('80878', 3), ('08715705022', 4), ('1x150p', 5), ('pound', 6), ('08712402050', 2), ('lines', 2), ('10ppm', 2), ('ag', 2), ('promo', 2), ('07753741225', 1), ('08715203677', 1), ('42478', 1), ('24', 4), ('important', 12), ('announcement', 6), ('542', 4), ('0825', 2), ('xclusive', 1), ('clubsaisai', 1), ('2morow', 1), ('28', 6), ('soiree', 1), ('speciale', 1), ('zouk', 1), ('nichols', 1), ('paris', 4), ('roses', 1), ('ladies', 3), ('07946746291', 1), ('07880867867', 1), ('22', 1), ('days', 8), ('kick', 3), ('euro2004', 5), ('kept', 3), ('results', 3), ('daily', 4), ('removed', 1), ('83222', 3), ('textbuddy', 2), ('guys', 6), ('area', 8), ('25p', 8), ('search', 2), ('postcode', 2), ('gaytextbuddy', 2), ('one', 8), ('89693', 2), ('vodafone', 6), ('4882', 2), ('matches', 7), ('09064019014', 2), ('voucher', 16), ('holder', 6), ('weeks', 9), ('pc', 6), ('tlp', 3), ('expressoffer', 2), ('ts', 10), ('texts', 19), ('80062', 5), ('08715203694', 1), ('40533', 2), ('31', 3), ('rstm', 2), ('sw7', 2), ('3ss', 2), ('88800', 1), ('89034', 1), ('premium', 2), ('08718711108', 1), ('sun0819', 1), ('posts', 1), ('hello', 4), ('you', 1), ('seem', 1), ('cool', 2), ('gr8', 7), ('every', 33), ('08452810071', 1), ('hi', 16), ('sue', 2), ('old', 2), ('work', 3), ('lapdancer', 1), ('sex', 11), ('bedroom', 1), ('89555', 3), ('textoperator', 3), ('g2', 1), ('1da', 1), ('150ppmsg', 1), ('forwarded', 4), ('448712404000', 1), ('08712404000', 1), ('immediately', 5), ('wait', 8), ('fantastic', 7), ('gage', 1), ('game', 9), ('deck', 1), ('cnupdates', 1), ('newsletter', 1), ('alerts', 1), ('08714712388', 1), ('7pm', 6), ('449071512431', 1), ('1250', 2), ('09071512433', 2), ('b4', 6), ('050703', 2), ('csbcm4235wc1n3xx', 3), ('callcost', 2), ('mobilesvary', 2), ('maxå', 3), ('7', 9), ('08714712394', 1), ('email', 2), ('alertfrom', 1), ('jeri', 1), ('stewartsize', 1), ('2kbsubject', 1), ('low', 1), ('prescripiton', 1), ('drvgsto', 1), ('listen', 2), ('nokia6650', 2), ('txtauction', 4), ('81151', 4), ('4t', 4), ('ctxt', 2), ('mtmsg', 2), ('subscribed', 3), ('best', 9), ('82324', 1), ('helpline', 2), ('08706091795', 2), ('realize', 1), ('40', 2), ('thousands', 1), ('running', 1), ('around', 2), ('tattoo', 1), ('premi', 1), ('romantic', 1), ('nights', 1), ('79', 1), ('book', 6), ('08704439680ts', 1), ('unclaimed', 1), ('09066368327', 1), ('closingdate04', 1), ('claimcode', 1), ('m39m51', 1), ('50pmmorefrommobile2bremoved', 1), ('mobypobox734ls27yf', 1), ('city', 3), ('break', 4), ('could', 7), ('summer', 8), ('store', 8), ('88039', 4), ('skilgme', 4), ('tscs087147403231winawk', 3), ('50perwksub', 3), ('premier', 1), ('0578', 2), ('ever', 3), ('thought', 1), ('living', 1), ('good', 12), ('life', 3), ('perfect', 1), ('community', 2), ('100p', 1), ('sm', 3), ('polyphonic', 5), ('087018728737', 1), ('toppoly', 1), ('tune', 1), ('subpoly', 3), ('81618', 3), ('pole', 1), ('08718727870', 4), ('9996', 1), ('14thmarch', 1), ('availa', 1), ('pobox84', 6), ('m263uz', 4), ('no1', 8), ('8077', 2), ('tell', 16), ('mates', 13), ('getzed', 10), ('36504', 7), ('w45wq', 6), ('norm150p', 6), ('ton', 3), ('cashto', 2), ('08000407165', 2), ('getstop', 2), ('88222', 2), ('php', 2), ('rg21', 1), ('4jx', 1), ('either', 10), ('gift', 18), ('outbid', 1), ('simonwatson5120', 1), ('shinco', 1), ('plyr', 1), ('bid', 7), ('smsrewards', 1), ('notifications', 1), ('smsservices', 1), ('yourinclusive', 1), ('comuk', 9), ('login', 5), ('3qxj9', 4), ('extra', 7), ('charge', 9), ('08702840625', 4), ('220', 3), ('cm2', 3), ('9a', 4), ('alfie', 3), ('moon', 3), ('children', 3), ('need', 10), ('song', 3), ('m8s', 3), ('charity', 6), ('8007', 21), ('nokias', 3), ('polys', 8), ('zed', 6), ('08701417012', 3), ('profit', 3), ('char', 3), ('09065174042', 2), ('cust', 4), ('care', 5), ('07821230901', 2), ('five', 3), ('08002888812', 2), ('remove', 4), ('09066350750', 2), ('ibiza', 4), ('await', 24), ('collection', 26), ('sk3', 3), ('8wp', 3), ('ppm', 4), ('talk', 5), ('friends', 5), ('fall', 1), ('worlds', 1), ('discreet', 2), ('vip', 4), ('83110', 1), ('yrs', 1), ('supply', 3), ('cds', 5), ('virgin', 1), ('records', 3), ('mystery', 1), ('09061104283', 1), ('smsco', 2), ('50pm', 1), ('approx', 1), ('3min', 1), ('07808', 1), ('xxxxxx', 1), ('08719899217', 1), ('41685', 2), ('07', 2), ('posh', 1), ('birds', 1), ('chaps', 1), ('user', 8), ('trial', 1), ('prods', 1), ('champneys', 1), ('put', 1), ('address', 4), ('dob', 1), ('asap', 6), ('ta', 1), ('0721072', 1), ('till', 3), ('drop', 2), ('10k', 3), ('5k', 2), ('travel', 2), ('09064011000', 2), ('ntt', 10), ('cr01327bt', 2), ('fixedline', 2), ('vari', 3), ('liverpool', 3), ('played', 2), ('mid', 2), ('09058094565', 2), ('09065171142', 2), ('stopsms', 2), ('08', 2), ('reminder', 2), ('downloaded', 1), ('already', 1), ('paid', 1), ('doit', 1), ('mymoby', 1), ('cont', 1), ('lastest', 1), ('stereophonics', 1), ('marley', 1), ('dizzee', 1), ('racal', 1), ('libertines', 1), ('strokes', 1), ('nookii', 1), ('bookmark', 1), ('january', 1), ('male', 3), ('sale', 4), ('gay', 6), ('cheaper', 2), ('08709222922', 2), ('5p', 3), ('cheap', 4), ('8p', 2), ('peak', 2), ('08712460324', 8), ('money', 4), ('lucky', 8), ('88600', 3), ('1million', 1), ('give', 7), ('away', 4), ('ppt150x3', 1), ('normal', 2), ('box403', 1), ('w1t1ji', 1), ('matthew', 1), ('09063440451', 1), ('lux', 2), ('ppm150', 1), ('box334', 1), ('sk38xh', 7), ('09061749602', 1), ('528', 1), ('hp20', 1), ('1yf', 1), ('getting', 4), ('touch', 1), ('folks', 1), ('company', 2), ('enjoy', 11), ('114', 3), ('14', 3), ('tcr', 3), ('w1', 4), ('filthy', 2), ('stories', 1), ('girls', 5), ('09050001808', 2), ('m95', 2), ('valid12hr', 3), ('3g', 5), ('videophones', 5), ('09063458130', 3), ('videochat', 5), ('wid', 5), ('java', 5), ('dload', 5), ('polyph', 3), ('noline', 5), ('rentl', 5), ('panasonic', 1), ('bluetoothhdset', 1), ('doublemins', 1), ('doubletxt', 1), ('contract', 4), ('guess', 7), ('somebody', 2), ('secretly', 2), ('fancies', 3), ('wan', 12), ('na', 10), ('09065394514', 1), ('datebox1282essexcm61xn', 2), ('09058097218', 1), ('ls15hb', 2), ('flirting', 1), ('girl', 5), ('bloke', 1), ('zoe', 1), ('kickoff', 2), ('informed', 2), ('euro', 3), ('eastenders', 2), ('flower', 2), ('dot', 2), ('compare', 2), ('violet', 2), ('tulip', 2), ('lily', 2), ('84025', 3), ('wkent', 2), ('150p16', 2), ('lots', 2), ('people', 3), ('registered', 4), ('flirtparty', 1), ('replys150', 1), ('asked', 6), ('cant', 4), ('09058091854', 2), ('revealed', 5), ('box385', 2), ('m6', 2), ('6wu', 2), ('09050003091', 2), ('c52', 2), ('ve', 10), ('invited', 5), ('xchat', 5), ('sipix', 6), ('digital', 8), ('09061221061', 2), ('28days', 2), ('box177', 2), ('m221bp', 2), ('2yr', 2), ('warranty', 2), ('på', 2), ('99', 2), ('09061790121', 3), ('subscriber', 4), ('b', 15), ('receipt', 3), ('ans', 6), ('elvis', 1), ('presleys', 1), ('birthday', 1), ('information', 8), ('o2', 7), ('log', 7), ('onto', 7), ('urawinner', 6), ('surprise', 5), ('449050000301', 1), ('09050000301', 1), ('bored', 4), ('speed', 1), ('speedchat', 2), ('80155', 1), ('em', 1), ('swap', 1), ('chatter', 1), ('chat80155', 1), ('rcd', 1), ('08000776320', 2), ('taking', 1), ('part', 10), ('survey', 1), ('yesterday', 3), ('however', 1), ('wish', 2), ('80160', 1), ('txt43', 1), ('hmv1', 1), ('forget', 2), ('place', 5), ('many', 3), ('requests', 1), ('1stchoice', 1), ('08707808226', 1), ('let', 4), ('thank', 1), ('notified', 1), ('luck', 6), ('future', 4), ('marketing', 1), ('84122', 1), ('08450542832', 1), ('virgins', 1), ('ready', 6), ('4fil', 2), ('sexual', 1), ('cute', 1), ('69911', 1), ('got', 7), ('takes', 4), ('wrc', 4), ('rally', 4), ('oz', 2), ('lucozade', 4), ('energy', 3), ('le', 2), ('61200', 2), ('packs', 2), ('itcould', 2), ('pic', 12), ('jordan', 4), ('babe', 8), ('celeb', 3), ('pocketbabe', 3), ('pics', 12), ('087016248', 1), ('voicemail', 3), ('08719181503', 1), ('choice', 3), ('enter', 10), ('subs16', 2), ('1win150ppmx3', 2), ('delivered', 4), ('door', 1), ('exp', 1), ('30apr', 1), ('08719181513', 2), ('nok', 2), ('87021', 3), ('txtin', 4), ('4info', 4), ('completely', 1), ('accommodation', 1), ('various', 1), ('global', 1), ('phb1', 1), ('ph', 2), ('08700435505150p', 1), ('84128', 3), ('textcomp', 3), ('08712405020', 4), ('08712402779', 1), ('hungry', 2), ('feeling', 2), ('08718730555', 1), ('set', 1), ('09096102316', 1), ('cum', 5), ('2moro', 1), ('jane', 1), ('xx', 4), ('callså', 5), ('minmoremobsemspobox45po139wa', 2), ('80488', 5), ('jamster', 4), ('videosound', 1), ('gold', 1), ('videosounds', 1), ('logos', 2), ('musicnews', 1), ('only', 4), ('09701213186', 1), ('lions', 2), ('lionm', 2), ('lionp', 2), ('ringtones', 10), ('original', 4), ('3gbp', 4), ('ûïharry', 1), ('potter', 2), ('phoenix', 2), ('harry', 2), ('among', 2), ('read', 3), ('sang', 1), ('uptown', 1), ('80', 1), ('free2day', 2), ('st', 2), ('george', 2), ('89080', 2), ('saucy', 3), ('0870241182716', 2), ('fantasies', 6), ('08707509020', 6), ('20p', 9), ('1327', 7), ('croydon', 7), ('cr9', 7), ('5wb', 7), ('0870', 8), ('k', 2), ('bears', 2), ('nick', 1), ('tom', 1), ('pete', 1), ('dick', 1), ('fact', 1), ('types', 1), ('photo', 3), ('upload', 2), ('08718730666', 2), ('txtauct', 2), ('linerental', 5), ('lf56', 2), ('msgrcvdhg', 4), ('win150ppmx3age16', 1), ('arsenal', 3), ('dartboard', 1), ('condition', 1), ('doubles', 1), ('trebl', 1), ('textpod', 4), ('pod', 4), ('optin', 1), ('whats', 1), ('bbc', 1), ('summers', 1), ('finally', 1), ('matched', 1), ('optout', 5), ('help08714742804', 1), ('claire', 2), ('havin', 1), ('borin', 1), ('time', 18), ('alone', 3), ('2nite', 4), ('09099725823', 1), ('hope', 4), ('bought', 1), ('costing', 2), ('offering', 1), ('09066362231', 3), ('07xxxxxxxxx', 3), ('06', 8), ('reach', 5), ('07801543489', 1), ('latests', 1), ('llc', 1), ('ny', 1), ('usa', 1), ('mt', 1), ('msgrcvd18', 1), ('lucy', 2), ('hubby', 2), ('meetins', 1), ('fri', 2), ('hotel', 2), ('cumin', 1), ('leave', 2), ('2day', 4), ('09099726395', 1), ('minmobsmorelkpobox177hp51fl', 3), ('credited', 1), ('jsco', 2), ('high', 3), ('2channel', 1), ('leadership', 1), ('skills', 1), ('strong', 3), ('psychic', 1), ('vote', 1), ('sing', 1), ('along', 1), ('stars', 1), ('karaoke', 1), ('brand', 4), ('arrive', 6), ('shortly', 2), ('install', 1), ('browse', 1), ('artist', 1), ('4719', 1), ('523', 1), ('7250i', 4), ('auction', 16), ('86021', 6), ('w1jhl', 4), ('plus', 7), ('ow', 1), ('7250', 2), ('08719899230', 1), ('olympics', 1), ('rt', 1), ('king', 4), ('pro', 1), ('ringtoneking', 3), ('08701237397', 1), ('redeemable', 1), ('09058094599', 2), ('stay', 3), ('british', 2), ('hotels', 2), ('london', 4), ('02072069400', 1), ('bx', 1), ('526', 1), ('sw73ss', 2), ('eerie', 5), ('rply', 5), ('title', 3), ('dracula', 2), ('titles', 3), ('ghost', 2), ('addamsfa', 2), ('munsters', 2), ('exorcist', 2), ('twilight', 2), ('0a', 1), ('allow', 1), ('companies', 1), ('bill', 2), ('responsible', 1), ('suppliers', 1), ('feelin', 1), ('kinda', 1), ('lnly', 1), ('jst', 1), ('cam', 2), ('moby', 4), ('82242', 3), ('msg150p', 2), ('2rcv', 2), ('hlp', 2), ('08712317606', 2), ('action', 4), ('80608', 2), ('movietrivia', 2), ('08712405022', 2), ('rgent', 1), ('lookin', 1), ('daytime', 1), ('wiv', 2), ('busty', 1), ('married', 2), ('woman', 1), ('sort', 1), ('09099726429', 1), ('janinexx', 1), ('09050001295', 1), ('a21', 1), ('monthly', 1), ('mobsi', 1), ('391784', 1), ('0089', 1), ('four', 1), ('digits', 1), ('received', 2), ('09063442151', 1), ('sorry', 3), ('ordered', 3), ('81303', 3), ('sufficient', 1), ('servic', 4), ('hard', 3), ('121', 3), ('60p', 5), ('connect', 3), ('09094646899', 2), ('biggest', 3), ('vu', 2), ('bcm1896wc1n3xx', 2), ('wow', 2), ('boys', 2), ('2007', 2), ('tour', 3), ('tickets', 3), ('pre', 1), ('trackmarque', 1), ('vipclub4u', 1), ('mandy', 1), ('sullivan', 1), ('hotmix', 1), ('fm', 1), ('chosen', 3), ('easter', 1), ('telephone', 1), ('09041940223', 1), ('29', 3), ('05', 5), ('transferred', 1), ('else', 1), ('going', 4), ('bahamas', 4), ('callfreefone', 2), ('08081560665', 2), ('cruise', 2), ('ofå', 2), ('07786200117', 2), ('conacted', 1), ('09111030116', 1), ('pobox12n146tf15', 1), ('07734396839', 2), ('ibh', 2), ('nokia6600', 2), ('buy', 5), ('space', 2), ('invaders', 2), ('orig', 2), ('arcade', 6), ('console', 2), ('press', 3), ('0', 4), ('settings', 3), ('purchas', 2), ('big', 2), ('brother', 1), ('alert', 4), ('computer', 5), ('09064018838', 1), ('cro1327', 1), ('mr', 2), ('foley', 2), ('exciting', 4), ('prizes', 2), ('eye', 2), ('82050', 2), ('1225', 1), ('50award', 1), ('3100', 2), ('hottest', 1), ('straight', 2), ('wet', 2), ('wanting', 1), ('costs', 3), ('g696ga', 2), ('hack', 1), ('backdoor', 1), ('rooms', 1), ('fraction', 1), ('neo69', 1), ('09050280520', 1), ('subscribe', 1), ('pm', 8), ('dps', 1), ('bcm', 1), ('8027', 1), ('upto', 2), ('12mths', 2), ('2price', 1), ('100txt', 1), ('mth', 1), ('tooth', 2), ('08001950382', 4), ('d3wv', 1), ('08718726970', 1), ('to', 1), ('repres', 1), ('would', 4), ('nearly', 1), ('banned', 1), ('09058094594', 1), ('0776xxxxxxx', 2), ('18yr', 3), ('09061743811', 1), ('abta', 3), ('326', 2), ('09090900040', 1), ('extreme', 1), ('dirty', 1), ('office', 1), ('right', 3), ('total', 1), ('privacy', 1), ('knows', 1), ('sic', 1), ('listening', 1), ('7mp', 1), ('0870753331018', 1), ('fones', 1), ('wild', 1), ('ill', 1), ('hurry', 1), ('im', 7), ('stop2stop', 1), ('80182', 3), ('08452810073', 3), ('details', 8), ('08715500022', 1), ('rpl', 1), ('cnl', 1), ('08702490080', 1), ('tells', 2), ('09066358152', 2), ('personal', 2), ('prompts', 2), ('car', 2), ('vpod', 1), ('09090204448', 1), ('minded', 1), ('evening', 1), ('aå', 1), ('minapn', 1), ('ls278bb', 1), ('well', 5), ('done', 4), ('costa', 7), ('del', 9), ('sol', 7), ('09050090044', 6), ('toclaim', 6), ('pobox334', 6), ('stockport', 6), ('costå', 7), ('max10min', 6), ('09065394973', 1), ('2006', 1), ('fifa', 1), ('world', 1), ('held', 1), ('87239', 4), ('09061743810', 1), ('enjoyed', 2), ('61610', 2), ('08712400602450p', 2), ('provided', 3), ('tones2you', 2), ('yo', 3), ('here', 1), ('downloads', 3), ('members', 3), ('open', 1), ('fone', 5), ('great', 11), ('freefone', 4), ('08006344447', 2), ('oper', 2), ('starting', 4), ('tscs', 3), ('skillgame', 3), ('1winaweek', 3), ('150ppermesssubscript', 3), ('09094100151', 1), ('cast', 1), ('aom', 2), ('gbp5', 1), ('box61', 1), ('m60', 1), ('1er', 1), ('ages', 1), ('09066362220', 1), ('box97n7qp', 3), ('gender', 2), ('wither', 1), ('23f', 1), ('men', 2), ('23g', 1), ('web2mobile', 1), ('txt250', 1), ('box139', 1), ('la32wu', 1), ('txtx', 1), ('85233', 1), ('official', 5), ('flag', 9), ('yer', 4), ('84199', 4), ('eng', 4), ('box39822', 4), ('w111wx', 4), ('subs', 3), ('inclusive', 5), ('08700469649', 1), ('box420', 1), ('5w', 1), ('087123002209am', 1), ('hols', 2), ('med', 3), ('stamped', 2), ('self', 2), ('envelope', 2), ('drinks', 2), ('113', 2), ('bray', 2), ('wicklow', 2), ('eire', 2), ('starts', 4), ('saturday', 7), ('idew', 2), ('b4u', 1), ('27', 2), ('marsms', 1), ('b4utele', 1), ('08717168528', 1), ('buffy', 1), ('satisfy', 2), ('home', 2), ('pix', 4), ('qlynnbv', 1), ('help08700621170150p', 1), ('49', 1), ('cross', 3), ('ntwk', 4), ('bundle', 1), ('deals', 1), ('also', 3), ('avble', 1), ('j', 1), ('mf', 1), ('08714712379', 1), ('ref', 4), ('k718', 1), ('09065069120', 1), ('ya', 1), ('4goten', 1), ('bout', 1), ('scammers', 1), ('though', 1), ('regular', 1), ('respond', 1), ('prem', 1), ('nos', 1), ('used', 1), ('bewar', 1), ('2morro', 1), ('term', 2), ('passion', 1), ('09099726481', 1), ('dena', 1), ('r836', 1), ('09065069154', 1), ('splashmobile', 1), ('1000s', 3), ('subscrition', 1), ('300p', 2), ('heard', 3), ('u4', 3), ('rude', 3), ('01223585334', 2), ('2c', 2), ('gettin', 2), ('shagged', 2), ('8552', 4), ('2end', 2), ('88877', 2), ('88066', 3), ('lost', 2), ('3pound', 1), ('oranges', 2), ('weekend', 9), ('upd8', 2), ('2stoptx', 1), ('08718738034', 1), ('21870000', 2), ('mailbox', 2), ('messaging', 2), ('09056242159', 2), ('retrieve', 2), ('pub', 2), ('street', 2), ('duchess', 2), ('cornwall', 2), ('008704050406', 2), ('arrow', 1), ('08718726971', 1), ('tddnewsletter', 1), ('emc1', 1), ('thedailydraw', 1), ('helen', 1), ('dozens', 1), ('prizeswith', 1), ('09066368753', 1), ('97n7qp', 1), ('or2optout', 1), ('hv9d', 1), ('restrictions', 1), ('buddys', 1), ('sir', 1), ('80082', 3), ('08712402902', 1), ('spook', 5), ('halloween', 3), ('08701417012150p', 2), ('fantasy', 5), ('football', 2), ('sky', 6), ('gamestar', 2), ('active', 2), ('250k', 2), ('scoring', 2), ('register', 2), ('88088', 2), ('expired', 1), ('re', 6), ('monoc', 1), ('monos', 1), ('polyc', 1), ('stream', 1), ('0871212025016', 1), ('draws', 1), ('town', 3), ('adult', 4), ('becausethey', 1), ('09058098002', 1), ('pobox1', 1), ('w14rg', 1), ('baby', 2), ('nasty', 1), ('thing', 1), ('filthyguys', 1), ('bitch', 1), ('slo', 2), ('4msg', 1), ('gotto', 1), ('220cm2', 1), ('created', 1), ('page', 1), ('asjesus', 1), ('wrote', 1), ('opinions', 1), ('83370', 1), ('trivia', 1), ('sppok', 1), ('09066612661', 3), ('complementary', 1), ('wa14', 1), ('2px', 1), ('sender', 1), ('hol', 1), ('off', 2), ('hvae', 1), ('09061701444', 1), ('hours', 3), ('acl03530150pm', 2), ('6230', 1), ('83383', 2), ('pobox114', 1), ('14tcr', 1), ('text82228', 1), ('txt82228', 2), ('mini', 1), ('snap', 1), ('quizclub', 1), ('80122300p', 1), ('rwm', 1), ('08704050406', 1), ('brought', 2), ('gmw', 1), ('amazing', 3), ('picsfree1', 2), ('vid', 1), ('keyword', 1), ('ten', 1), ('83435', 1), ('tarot', 1), ('85555', 1), ('horniest', 1), ('follow', 2), ('instructions', 2), ('nyt', 3), ('3lp', 3), ('knock', 2), ('whose', 1), ('tkls', 1), ('stoptxtstopå', 1), ('cc100p', 1), ('0870737910216yrs', 1), ('077xxx', 1), ('09066362206', 1), ('look', 3), ('sexi', 1), ('w4', 1), ('5wq', 1), ('norm', 2), ('park', 1), ('69696', 2), ('response', 1), ('hit', 4), ('include', 2), ('mcfly', 1), ('all', 2), ('ab', 1), ('sara', 1), ('jorge', 1), ('shock', 1), ('smith', 1), ('switch', 1), ('messag', 1), ('sports', 2), ('fans', 1), ('str', 1), ('0870141701216', 1), ('120p', 1), ('europe', 1), ('10th', 1), ('sept', 3), ('09050000555', 1), ('ba128nnfwfly150ppm', 1), ('uks', 3), ('fastest', 2), ('growing', 2), ('83021', 1), ('tariffs', 6), ('2stoptxt', 3), ('luxury', 2), ('canary', 2), ('islands', 2), ('20m12aq', 1), ('ûï', 1), ('james', 1), ('eh74rr', 1), ('women', 1), ('instantly', 1), ('69969', 1), ('bcmsfwc1n3xx', 1), ('burger', 2), ('footy', 1), ('stadium', 1), ('large', 1), ('super', 3), ('coca', 1), ('cola', 1), ('walk', 1), ('winn', 1), ('little', 3), ('child', 1), ('afraid', 1), ('dark', 1), ('become', 1), ('teenager', 1), ('wants', 1), ('night', 6), ('ûªve', 1), ('bin', 1), ('instant', 1), ('08715203028', 1), ('9th', 1), ('wins', 1), ('fav', 1), ('mobs', 1), ('2u', 1), ('breathe1', 1), ('crazyin', 1), ('sleepingwith', 1), ('finest', 1), ('ymca', 1), ('pobox365o4w45wq', 1), ('interflora', 2), ('åòit', 1), ('late', 1), ('flowers', 1), ('christmas', 1), ('505060', 1), ('midnight', 1), ('romcapspam', 1), ('everyone', 2), ('responding', 1), ('presence', 1), ('since', 2), ('warm', 2), ('outgoing', 1), ('bringing', 1), ('breath', 1), ('sunshin', 1), ('08712103738', 1), ('09058099801', 2), ('b4190604', 2), ('7876150ppm', 2), ('crazy', 5), ('frog', 2), ('sound', 1), ('mad1', 1), ('mad2', 1), ('88888', 2), ('sounds', 1), ('reality', 2), ('show', 4), ('shortli', 1), ('porn', 4), ('69855', 1), ('stopbcm', 1), ('sf', 1), ('pdate_now', 1), ('yhl', 1), ('09058094454', 1), ('yet', 2), ('package', 1), ('54', 2), ('resubmit', 1), ('request', 1), ('expiry', 1), ('08712400200', 1), ('awaiting', 3), ('08718723815', 1), ('08714714011', 1), ('driving', 2), ('anyone', 1), ('slower', 1), ('idiot', 1), ('faster', 1), ('maniac', 1), ('4qf2', 1), ('professional', 1), ('tiger', 1), ('woods', 1), ('pt2', 2), ('improved', 2), ('onli', 1), ('400mins', 1), ('j5q', 1), ('69200', 1), ('hrs', 1), ('chrgd', 1), ('2exit', 1), ('fre', 2), ('unsubscribed', 1), ('tons', 1), ('hunks', 1), ('gotbabes', 1), ('subscript', 1), ('abroad', 1), ('lonely', 2), ('xxsp', 1), ('visionsms', 2), ('stopcost', 1), ('08712400603', 1), ('agent', 1), ('loads', 1), ('goodies', 1), ('mat', 1), ('lord', 1), ('rings', 1), ('return', 1), ('lotr', 2), ('june', 1), ('soundtrack', 1), ('stdtxtrate', 1), ('28th', 1), ('feb', 1), ('removal', 2), ('08708034412', 2), ('str8', 1), ('classic', 1), ('200p', 1), ('lookatme', 2), ('purchase', 1), ('clip', 1), ('35p', 1), ('better', 1), ('mmsto', 1), ('32323', 1), ('vat', 1), ('cancel', 5), ('09053750005', 1), ('310303', 1), ('08718725756', 1), ('140ppm', 1), ('08712101358', 2), ('09066358361', 1), ('y87', 1), ('x29', 1), ('09065989180', 1), ('08718726978', 1), ('44', 1), ('7732584351', 1), ('3510i', 5), ('deliveredtomorrow', 3), ('300', 5), ('minutes', 5), ('09058097189', 1), ('09061221066', 4), ('fromm', 4), ('5226', 1), ('hava', 1), ('1131', 1), ('rct', 1), ('thnq', 1), ('adrian', 1), ('rgds', 1), ('vatian', 1), ('09050000928', 1), ('pobox45w2tg150p', 2), ('missed', 2), ('07090201529', 1), ('needs', 1), ('09066364349', 1), ('lose', 1), ('box434sk38wp150ppm18', 1), ('billed', 3), ('mistake', 1), ('shortcode', 1), ('83332', 1), ('08081263000', 1), ('charges', 2), ('refunded', 1), ('this', 1), ('landlin', 3), ('08712402972', 1), ('09058095201', 1), ('never', 1), ('much', 1), ('came', 1), ('made', 1), ('truly', 3), ('wo', 3), ('600', 2), ('400', 7), ('deltomorrow', 1), ('repli', 1), ('09066368470', 1), ('begin', 1), ('24m', 1), ('smartcall', 1), ('68866', 1), ('subscriptn3gbp', 1), ('08448714184', 1), ('landlineonli', 1), ('mths', 4), ('save', 3), ('callback', 3), ('orno', 1), ('fink', 1), ('met', 1), ('09099726553', 1), ('promised', 1), ('carlie', 1), ('minmobsmore', 1), ('lkpobox177hp51fl', 1), ('movie', 2), ('89105', 1), ('films', 2), ('wedding', 1), ('lingerie', 1), ('bridal', 1), ('petticoatdreams', 1), ('superb', 1), ('weddingfriend', 1), ('knickers', 1), ('beg', 1), ('01223585236', 1), ('nikiyu4', 1), ('bloomberg', 4), ('center', 2), ('447797706009', 2), ('careers', 2), ('phone750', 1), ('09050000878', 1), ('wan2', 2), ('greet', 2), ('westlife', 2), ('m8', 2), ('unbreakable', 2), ('untamed', 2), ('unkempt', 2), ('83049', 2), ('dorothy', 1), ('kiefer', 1), ('bank', 2), ('granite', 2), ('issues', 2), ('explosive', 2), ('pick', 2), ('up', 2), ('nasdaq', 2), ('symbol', 2), ('cdgt', 2), ('09071517866', 1), ('150ppmpobox10183bhamb64x', 1), ('8pm', 1), ('thurs', 1), ('sat', 2), ('selling', 1), ('fast', 1), ('rock', 1), ('chik', 1), ('filth', 1), ('69669', 2), ('saristar', 1), ('e14', 1), ('9yt', 1), ('08701752560', 1), ('450p', 1), ('stop2', 1), ('9061100010', 1), ('wire3', 1), ('1st4terms', 1), ('mobcudb', 1), ('09050000460', 1), ('j89', 1), ('box245c2150pm', 1), ('banneduk', 1), ('round', 1), ('highest', 1), ('maximum', 1), ('71', 1), ('bids', 1), ('valentine', 1), ('flight', 1), ('69101', 1), ('rtf', 1), ('sphosting', 1), ('believe', 2), ('incredible', 2), ('learn', 2), ('things', 2), ('blow', 2), ('mind', 2), ('o2fwd', 2), ('18p', 2), ('willing', 1), ('strt', 1), ('ltdhelpdesk', 1), ('02085076972', 1), ('09066660100', 1), ('2309', 1), ('tonights', 2), ('recently', 2), ('unable', 2), ('07090298926', 1), ('schedule', 2), ('9307622', 1), ('my', 1), ('html', 1), ('gbp4', 1), ('mfl', 1), ('wamma', 1), ('doggin', 1), ('dogs', 1), ('promotion', 1), ('8714714', 1), ('087147123779am', 1), ('x49', 2), ('09065989182', 2), ('txtstar', 1), ('2nights', 1), ('uve', 1), ('wildest', 1), ('146tf150p', 1), ('class', 2), ('airport', 1), ('lounge', 1), ('passes', 1), ('using', 2), ('08704439680', 1), ('booking', 1), ('quote', 1), ('09058095107', 1), ('s3xy', 1), ('mila', 2), ('age23', 2), ('blonde', 2), ('mtalk', 2), ('69866', 2), ('30pp', 2), ('5free', 2), ('increments', 2), ('help08718728876', 2), ('08717895698', 1), ('mobstorequiz10ppm', 1), ('funk', 2), ('tones2u', 2), ('twinks', 1), ('scallies', 1), ('skins', 1), ('jocks', 1), ('08712466669', 1), ('nat', 3), ('09061701851', 1), ('k61', 1), ('12hour', 1), ('74355', 1), ('iscoming', 2), ('tnc', 2), ('blu', 2), ('concert', 1), ('november', 1), ('09061104276', 1), ('75max', 1), ('single', 1), ('62220cncl', 1), ('stopcs', 1), ('08717890890å', 1), ('åòharry', 1), ('tms', 2), ('widelive', 2), ('index', 2), ('wml', 2), ('id', 3), ('1b6a5ecef91ff9', 1), ('37819', 1), ('true18', 1), ('0430', 1), ('jul', 1), ('oh', 1), ('god', 1), ('found', 1), ('glad', 1), ('xafter', 1), ('cst', 1), ('chg', 1), ('picture', 1), ('alto18', 1), ('wave', 2), ('asp', 2), ('o', 1), ('44345', 1), ('hf8', 1), ('09061702893', 2), ('08719181259', 1), ('xxxxx', 1), ('26', 3), ('real1', 1), ('pushbutton', 1), ('dontcha', 1), ('babygoodbye', 1), ('golddigger', 1), ('webeburnin', 1), ('gnarls', 1), ('barkleys', 1), ('totally', 1), ('secured', 1), ('unsecured', 1), ('ca', 1), ('195', 1), ('6669', 1), ('3000', 1), ('picked', 4), ('09061743386', 2), ('674', 2), ('84484', 1), ('housewives', 2), ('0871750', 2), ('77', 2), ('thur', 1), ('087104711148', 1), ('receiving', 2), ('triple', 1), ('echo', 1), ('dial', 1), ('bx526', 1), ('09066364311', 2), ('custom', 2), ('your', 1), ('accessible', 1), ('08709501522', 1), ('139', 1), ('la3', 1), ('2wu', 1), ('mobil', 1), ('09064017305', 1), ('pobox75ldns7', 1), ('tbs', 1), ('persolvo', 1), ('chasing', 1), ('forå', 1), ('38', 1), ('definitely', 1), ('paying', 1), ('ignore', 1), ('kath', 1), ('manchest', 1), ('loans', 1), ('bad', 1), ('noworriesloans', 1), ('08717111821', 1), ('season', 1), ('2wks', 1), ('villa', 1), ('brings', 1), ('heroes', 1), ('tips', 1), ('07973788240', 1), ('08715203649', 1), ('gsoh', 1), ('spam', 1), ('gigolo', 1), ('mens', 1), ('oncall', 1), ('mjzgroup', 1), ('08714342399', 1), ('50rcvd', 1), ('08707500020', 1), ('ukp', 1), ('09061790125', 1), ('spjanuary', 1), ('simpsons', 1), ('released', 1), ('band', 1), ('died', 1), ('film', 2), ('a', 2), ('green', 1), ('blue', 1), ('amanda', 1), ('regard', 1), ('renewing', 1), ('upgrading', 1), ('current', 2), ('tel', 1), ('subject', 1), ('wtlp', 1), ('0906346330', 1), ('spanish', 2), ('47', 1), ('po19', 1), ('2ez', 1), ('cmon', 1), ('turn', 1), ('sticky', 1), ('replies', 1), ('0796xxxxxx', 1), ('prizeawait', 1), ('called', 1), ('left', 1), ('07008009200', 1), ('indicate', 2), ('3750', 1), ('accident', 2), ('colours', 1), ('3lions', 1), ('gprs', 1), ('accordingly', 1), ('repeat', 1), ('block', 1), ('breaker', 1), ('deluxe', 1), ('format', 1), ('features', 1), ('graphics', 1), ('bbdeluxe', 1), ('challeng', 1), ('2find', 2), ('natalja', 2), ('440', 4), ('nat27081980', 2), ('kit', 1), ('strip', 1), ('1013', 1), ('ig11', 1), ('oja', 1), ('08712402578', 1), ('thesmszone', 1), ('lets', 1), ('anonymous', 1), ('masked', 1), ('sending', 2), ('there', 1), ('potential', 1), ('abus', 1), ('09061744553', 2), ('polyh', 2), ('0789xxxxxxx', 1), ('shy', 1), ('09058091870', 1), ('complete', 1), ('landmark', 1), ('bob', 1), ('barry', 1), ('ben', 1), ('83738', 1), ('tonexs', 1), ('renewed', 1), ('clubzed', 1), ('billing', 1), ('another', 2), ('polo', 2), ('suite', 2), ('373', 2), ('w1j', 2), ('6hl', 2), ('busi', 2), ('8000930705', 1), ('recpt', 1), ('processed', 1), ('subscribers', 1), ('headset', 1), ('adp', 1), ('floppy', 1), ('snappy', 1), ('happy', 1), ('giving', 1), ('08719839835', 1), ('mgs', 1), ('89123', 1), ('explicit', 2), ('30', 2), ('secs', 2), ('02073162414', 2), ('proze', 1), ('norcorp', 1), ('items', 1), ('7cfca1a', 1), ('wining', 1), ('946', 1), ('wot', 1), ('cock', 1), ('man', 2), ('wife', 1), ('89938', 1), ('strings', 1), ('rec', 1), ('50ea', 1), ('otbox', 1), ('731', 1), ('la1', 1), ('7w', 1), ('sexiest', 1), ('dirtiest', 1), ('89070', 2), ('w8in', 1), ('4utxt', 1), ('laugh', 1), ('chit', 1), ('logon', 1), ('8883', 1), ('cm', 1), ('4217', 1), ('w1a', 1), ('6zf', 1), ('118p', 1), ('1000call', 1), ('09071512432', 1), ('300603t', 1), ('callcost150ppmmobilesvary', 1), ('mnths', 2), ('record', 2), ('08718727870150ppm', 1), ('86888', 2), ('subscribe6gbp', 2), ('mnth', 2), ('3hrs', 2), ('txtstop', 2), ('recorder', 1), ('canname', 1), ('capital', 1), ('australia', 1), ('mquiz', 1), ('7634', 1), ('7684', 1), ('ripped', 1), ('clubmoby', 1), ('08717509990', 1), ('randomly', 2), ('loyal', 2), ('customers', 2), ('09066380611', 2), ('08718738002', 1), ('48922', 1), ('07099833605', 1), ('9280114', 1), ('chloe', 1), ('smashed', 1), ('missing', 1), ('07808726822', 1), ('9758', 1), ('rayman', 1), ('golf', 1), ('activ8', 1), ('key', 1), ('termsappli', 1), ('axel', 1), ('akon', 1), ('black', 1), ('eyed', 1), ('cashbin', 2), ('these', 1), ('continued', 1), ('support', 2), ('in2', 1), ('president', 1), ('1172', 1), ('09066649731from', 1), ('santa', 4), ('ones', 2), ('09077818151', 1), ('calls1', 1), ('50ppm', 1), ('30s', 1), ('santacalling', 1), ('078498', 1), ('08719180219', 1), ('videos', 1), ('shsex', 1), ('netun', 1), ('fgkslpopw', 1), ('fgkslpo', 1), ('0871277810710p', 1), ('08715203652', 1), ('42810', 1), ('msgrcvd', 1), ('skip', 1), ('customercare', 1), ('08718726270', 2), ('lyricalladie', 1), ('910', 2), ('hmmross', 1), ('ou', 1), ('sn', 1), ('pobox202', 1), ('nr31', 1), ('7zs', 1), ('450pw', 1), ('warner', 2), ('village', 2), ('83118', 1), ('colin', 1), ('farrell', 1), ('swat', 1), ('wkend', 1), ('popcorn', 1), ('ticket', 1), ('kiosk', 2), ('mre', 1), ('goal', 2), ('henry', 2), ('scores', 1), ('simple', 1), ('shot', 1), ('yards', 1), ('bergkamp', 1), ('margin', 1), ('78', 1), ('sexychat', 1), ('chatting', 1), ('amy', 1), ('couple', 1), ('parties', 1), ('select', 1), ('added', 2), ('benefits', 1), ('trained', 1), ('advisors', 1), ('dialling', 1), ('402', 1), ('meal', 1), ('dining', 2), ('experiencehttp', 1), ('vouch4me', 1), ('etlp', 1), ('09058094507', 1), ('donate', 2), ('unicef', 1), ('asian', 1), ('tsunami', 1), ('disaster', 1), ('fund', 1), ('texting', 1), ('864233', 1), ('bil', 1), ('goldviking', 2), ('762', 2), ('phony', 1), ('xxxx', 1), ('125', 1), ('freeentry', 1), ('xt', 1), ('08714712412', 1), ('meg', 1), ('08715203685', 1), ('4xx26', 1), ('13', 2), ('deepest', 1), ('darkest', 1), ('09094646631', 1), ('natalie', 1), ('165', 2), ('natalie2k9', 1), ('wallpaper', 2), ('08701213186', 1), ('83039', 1), ('62735', 1), ('450', 1), ('accommodationvouchers', 1), ('mustprovide', 1), ('15541', 1), ('tscs08714740323', 1), ('1winawk', 1), ('50perweeksub', 1), ('09066361921', 1), ('pink', 1), ('panther', 1), ('sugababes', 1), ('zebra', 1), ('animation', 1), ('badass', 1), ('hoody', 1), ('resent', 1), ('previous', 1), ('failed', 1), ('due', 2), ('error', 1), ('queries', 1), ('customersqueries', 1), ('netvision', 1), ('08715205273', 1), ('vco', 1), ('078', 1), ('garden', 2), ('bulbs', 2), ('seeds', 2), ('33', 2), ('scotsman', 2), ('go2', 2), ('notxt', 2), ('ree', 1), ('maybe', 2), ('compensation', 1), ('telediscount', 1), ('08715203656', 1), ('42049', 1), ('someonone', 1), ('09064015307', 1), ('09061213237', 2), ('177', 2), ('m227xy', 2), ('09061790126', 1), ('com1win150ppmx3age16subscript', 1), ('follows', 1), ('subsequent', 1), ('wks', 1), ('09095350301', 1), ('erotic', 1), ('ecstacy', 1), ('dept', 1), ('08717507382', 1), ('two', 1), ('started', 1), ('radio', 1), ('connection', 1), ('coincid', 1), ('leading', 1), ('151', 1), ('pause', 1), ('gr8prizes', 2), ('8800', 1), ('psp', 1), ('083', 1), ('6089', 1), ('09058094583', 1), ('tim', 1), ('32000', 1), ('legitimat', 1), ('efreefone', 1), ('wat', 1), ('police', 1), ('station', 1), ('toilet', 1), ('stolen', 1), ('cops', 1), ('for', 1), ('sparkling', 1), ('breaks', 1), ('45', 1), ('person', 1), ('0121', 1), ('2025050', 1), ('shortbreaks', 1), ('org', 1), ('gamb', 1), ('820554ad0a1705572711', 1), ('trueåác', 1), ('ringtoneåá', 1), ('09050000332', 1), ('09064017295', 1), ('2p', 2), ('08448350055', 1), ('planettalkinstant', 1), ('marvel', 1), ('ultimate', 1), ('spider', 2), ('83338', 1), ('8ball', 1), ('wallpap', 1), ('07808247860', 1), ('08719899229', 1), ('40411', 1), ('49557', 1), ('gsex', 1), ('2667', 1), ('wc1n', 1), ('3xx', 1), ('3mobile', 1), ('chatlines', 1), ('inclu', 1), ('india', 1), ('servs', 1), ('sed', 1), ('l8er', 1), ('mega', 1), ('giv', 1), ('shit', 1), ('bailiff', 1), ('house', 1), ('postcod', 1), ('087187272008', 1), ('now1', 1)])"
      ]
     },
     "execution_count": 144,
     "metadata": {},
     "output_type": "execute_result"
    }
   ],
   "source": [
    "fdist_spam.items()"
   ]
  },
  {
   "cell_type": "code",
   "execution_count": 145,
   "metadata": {},
   "outputs": [
    {
     "data": {
      "text/plain": [
       "[('call', 349),\n",
       " ('å', 299),\n",
       " ('free', 222),\n",
       " ('2', 206),\n",
       " ('u', 174),\n",
       " ('txt', 165),\n",
       " ('ur', 144),\n",
       " ('4', 137),\n",
       " ('mobile', 126),\n",
       " ('text', 125),\n",
       " ('stop', 121),\n",
       " ('claim', 113),\n",
       " ('1', 111),\n",
       " ('reply', 103),\n",
       " ('www', 98),\n",
       " ('prize', 87),\n",
       " ('get', 86),\n",
       " ('s', 83),\n",
       " ('cash', 76),\n",
       " ('uk', 74),\n",
       " ('150p', 71),\n",
       " ('send', 70),\n",
       " ('new', 69),\n",
       " ('nokia', 67),\n",
       " ('win', 64)]"
      ]
     },
     "execution_count": 145,
     "metadata": {},
     "output_type": "execute_result"
    }
   ],
   "source": [
    "# Now Plotting the top words in Spam:\n",
    "\n",
    "import matplotlib.pyplot as plt\n",
    "%matplotlib inline\n",
    "\n",
    "sorted_words_spam = sorted(fdist_spam.items(), reverse = True, key=lambda x: x[1])\n",
    "sorted_words_spam\n",
    "\n",
    "sorted_words_spam_25 = sorted_words_spam[0:25]\n",
    "sorted_words_spam_25"
   ]
  },
  {
   "cell_type": "code",
   "execution_count": 146,
   "metadata": {},
   "outputs": [
    {
     "data": {
      "text/plain": [
       "<BarContainer object of 25 artists>"
      ]
     },
     "execution_count": 146,
     "metadata": {},
     "output_type": "execute_result"
    },
    {
     "data": {
      "image/png": "[encoded data removed]",
      "text/plain": [
       "<Figure size 1800x576 with 1 Axes>"
      ]
     },
     "metadata": {},
     "output_type": "display_data"
    }
   ],
   "source": [
    "temp_df = DataFrame(sorted_words_spam_25, columns = ['word','count'])\n",
    "\n",
    "plt.figure(figsize=(25,8))\n",
    "\n",
    "plt.bar( temp_df['word'], temp_df['count'])"
   ]
  },
  {
   "cell_type": "code",
   "execution_count": 147,
   "metadata": {},
   "outputs": [],
   "source": [
    "# Now we will use wordcloud to plot a word cloud of list of final spam words = l_final_words \n",
    "# ( which needs to be converted to a string) after all text-processing that we have done:\n",
    "\n",
    "from wordcloud import WordCloud\n",
    "\n",
    "wc = WordCloud(width=3000, height=1500)\n",
    "wc_plot = wc.generate(str(l_final_words))\n"
   ]
  },
  {
   "cell_type": "code",
   "execution_count": 148,
   "metadata": {},
   "outputs": [
    {
     "data": {
      "image/png": "[encoded data removed]",
      "text/plain": [
       "<Figure size 432x288 with 1 Axes>"
      ]
     },
     "metadata": {},
     "output_type": "display_data"
    },
    {
     "data": {
      "text/plain": [
       "<Figure size 44800x19600 with 0 Axes>"
      ]
     },
     "metadata": {},
     "output_type": "display_data"
    }
   ],
   "source": [
    "plt.imshow(wc_plot)\n",
    "plt.figure(figsize=(32,14), dpi=1400)\n",
    "\n",
    "\n",
    "# plt.imshow is used to : Display an image, i.e. data on a 2D regular raster.\n",
    "#(plt.axis([0,160,0,40]))\n",
    "plt.tight_layout(pad=0)\n",
    "plt.show()"
   ]
  },
  {
   "cell_type": "code",
   "execution_count": null,
   "metadata": {},
   "outputs": [],
   "source": []
  },
  {
   "cell_type": "code",
   "execution_count": null,
   "metadata": {},
   "outputs": [],
   "source": []
  }
 ],
 "metadata": {
  "kernelspec": {
   "display_name": "Python 3",
   "language": "python",
   "name": "python3"
  },
  "language_info": {
   "codemirror_mode": {
    "name": "ipython",
    "version": 3
   },
   "file_extension": ".py",
   "mimetype": "text/x-python",
   "name": "python",
   "nbconvert_exporter": "python",
   "pygments_lexer": "ipython3",
   "version": "3.6.5"
  }
 },
 "nbformat": 4,
 "nbformat_minor": 2
}
